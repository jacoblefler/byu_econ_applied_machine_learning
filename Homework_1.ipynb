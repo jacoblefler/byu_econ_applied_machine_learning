{
 "cells": [
  {
   "cell_type": "code",
   "execution_count": 1,
   "metadata": {
    "collapsed": true
   },
   "outputs": [],
   "source": [
    "import numpy as np\n",
    "import pandas as pd\n",
    "import seaborn as sns\n",
    "import matplotlib.pyplot as plt\n",
    "import matplotlib.dates as mdates\n",
    "sns.set(style='ticks', palette='Set2')\n",
    "%matplotlib inline"
   ]
  },
  {
   "cell_type": "markdown",
   "metadata": {},
   "source": [
    "### Dataset 1: Air Pollution Along the Wasatch Front\n",
    "\n",
    "This first dataset contains pollution and weather variables for the Wasatch front (Ogden to Spanish Fork). We first clean the dataset, getting rid of unwanted variables and observations. Next we create our own average pollution variable for the Wasatch front. Then we describe the data, seeing how pollution is correlated with temperature and precipitation. Finally we visualize the data, looking at the distribution of pollution levels and how they have changed along the Wasatch front from 2000-2016."
   ]
  },
  {
   "cell_type": "code",
   "execution_count": 2,
   "metadata": {
    "collapsed": true,
    "scrolled": true
   },
   "outputs": [],
   "source": [
    "# Here we read in a SAS dataset and create a Pandas datafile. The SAS dataset is a dataset of pollution and weather variables.\n",
    "# The weather variables were measured at SLC International Airport. The pollution variables are measures of fine particulate \n",
    "# matter (pm2.5) in ug/m^3. These were measured at community air monitors along the Wasatch front. The pollution data were\n",
    "# downloaded from the EPA and merged with the weather data previously by myself.\n",
    "pollution_data = pd.read_sas('C:\\\\Users\\\\jacob\\\\Documents\\\\Datasets\\\\utah_pollution_weather_opt1.sas7bdat', format='sas7bdat')"
   ]
  },
  {
   "cell_type": "code",
   "execution_count": 3,
   "metadata": {
    "collapsed": true
   },
   "outputs": [],
   "source": [
    "# Here we create a \"Date\" collumn. We use the to_timedelta and Timestamp functions to convert the SAS \"date_final\" variable\n",
    "# to the python date format we want to use. We add 1Jan1960 since this is the date that SAS dates count from.\n",
    "# Then we set the index to the date.\n",
    "pollution_data['Date']=pd.to_timedelta(pollution_data['date_final'], unit='D') + pd.Timestamp('1960-1-1')\n",
    "pollution_data = pollution_data.set_index('Date')"
   ]
  },
  {
   "cell_type": "code",
   "execution_count": 4,
   "metadata": {
    "collapsed": true
   },
   "outputs": [],
   "source": [
    "# We drop date and date_final (use the index), the Logan pollution data to restrict ourselves to the Wasatch front \n",
    "# (from Ogden to Spanish Fork), weather variables we aren't interested in, and pm10 data (another measure of air pollution).\n",
    "cols_delete = ['date_final', 'pm25_logan', 'dewpoint', 'sealevel_pressure', 'station_pressure', 'visibility', 'windspeed',\n",
    "              'min_temp', 'max_temp', 'max_windspeed', 'max_windgust', 'snow_depth', 'pm10_bountiful', 'pm10_hawthorne',\n",
    "              'pm10_lindon', 'pm10_logan', 'pm10_northprovo', 'pm10_ogden', 'pm10_rosepark', 'pm10_spanishfork', 'pm10_magna']\n",
    "pollution_data = pollution_data.drop(labels=cols_delete, axis=1)"
   ]
  },
  {
   "cell_type": "code",
   "execution_count": 5,
   "metadata": {
    "collapsed": true
   },
   "outputs": [],
   "source": [
    "# Measuring pm2.5 did not become common practice until 1999. Here we restrict ourselves to the data from 1Jan2000 to 31Dec2016\n",
    "pollution_data = pollution_data.drop(pollution_data.index[0:5478])"
   ]
  },
  {
   "cell_type": "code",
   "execution_count": 6,
   "metadata": {},
   "outputs": [
    {
     "data": {
      "text/plain": [
       "Index(['pm25_bountiful', 'pm25_hawthorne', 'pm25_lindon', 'pm25_northprovo',\n",
       "       'pm25_ogden', 'pm25_rosepark', 'pm25_spanishfork', 'pm25_magna',\n",
       "       'precipitation'],\n",
       "      dtype='object')"
      ]
     },
     "execution_count": 6,
     "metadata": {},
     "output_type": "execute_result"
    }
   ],
   "source": [
    "# In my experience, missing pollution measures are for the most part random. We will use an average of all the\n",
    "# monitors to overcome this. We will also later address missing values for precipitation.\n",
    "# Here we look at which collumns are missing data.\n",
    "pollution_data.columns[pollution_data.isnull().any()]"
   ]
  },
  {
   "cell_type": "code",
   "execution_count": 7,
   "metadata": {
    "collapsed": true
   },
   "outputs": [],
   "source": [
    "# We create the mean pollution level for the Wasatch front. Each monitor is weighted equally. Note that \"cols\" was created above.\n",
    "# We create a list called cols to do this. We remake this list after making our new columns.\n",
    "cols = pollution_data.columns.tolist()\n",
    "pm25_cols = [e for e in cols if e not in ('mean_temp', 'precipitation')]\n",
    "pollution_data['Wasatch Mean pm2.5'] = pollution_data[pm25_cols].sum(axis=1)/len(pm25_cols)\n",
    "cols = pollution_data.columns.tolist()"
   ]
  },
  {
   "cell_type": "code",
   "execution_count": 8,
   "metadata": {},
   "outputs": [
    {
     "name": "stdout",
     "output_type": "stream",
     "text": [
      "<class 'pandas.core.frame.DataFrame'>\n",
      "DatetimeIndex: 6210 entries, 2000-01-01 to 2016-12-31\n",
      "Data columns (total 11 columns):\n",
      "pm25_bountiful        2318 non-null float64\n",
      "pm25_hawthorne        5964 non-null float64\n",
      "pm25_lindon           5863 non-null float64\n",
      "pm25_northprovo       4043 non-null float64\n",
      "pm25_ogden            3901 non-null float64\n",
      "pm25_rosepark         3092 non-null float64\n",
      "pm25_spanishfork      1933 non-null float64\n",
      "pm25_magna            1560 non-null float64\n",
      "mean_temp             6210 non-null float64\n",
      "precipitation         6206 non-null float64\n",
      "Wasatch Mean pm2.5    6210 non-null float64\n",
      "dtypes: float64(11)\n",
      "memory usage: 582.2 KB\n"
     ]
    }
   ],
   "source": [
    "# We look at our variables. Next we will change their order.\n",
    "pollution_data.info()"
   ]
  },
  {
   "cell_type": "code",
   "execution_count": 9,
   "metadata": {
    "collapsed": true
   },
   "outputs": [],
   "source": [
    "# We rearrange the collumns so that Wasatch mean, mean temperature, and precipitation will be at the front.\n",
    "cols = cols[-1:] + cols[-3:-1] + cols[:-1]\n",
    "pollution_data = pollution_data[cols]"
   ]
  },
  {
   "cell_type": "code",
   "execution_count": 10,
   "metadata": {},
   "outputs": [
    {
     "name": "stdout",
     "output_type": "stream",
     "text": [
      "<class 'pandas.core.frame.DataFrame'>\n",
      "DatetimeIndex: 6210 entries, 2000-01-01 to 2016-12-31\n",
      "Data columns (total 13 columns):\n",
      "Wasatch Mean pm2.5    6210 non-null float64\n",
      "mean_temp             6210 non-null float64\n",
      "precipitation         6206 non-null float64\n",
      "pm25_bountiful        2318 non-null float64\n",
      "pm25_hawthorne        5964 non-null float64\n",
      "pm25_lindon           5863 non-null float64\n",
      "pm25_northprovo       4043 non-null float64\n",
      "pm25_ogden            3901 non-null float64\n",
      "pm25_rosepark         3092 non-null float64\n",
      "pm25_spanishfork      1933 non-null float64\n",
      "pm25_magna            1560 non-null float64\n",
      "mean_temp             6210 non-null float64\n",
      "precipitation         6206 non-null float64\n",
      "dtypes: float64(13)\n",
      "memory usage: 679.2 KB\n"
     ]
    }
   ],
   "source": [
    "# We look at our variables again. They're in the right order and have the right types.\n",
    "pollution_data.info()"
   ]
  },
  {
   "cell_type": "code",
   "execution_count": 11,
   "metadata": {},
   "outputs": [
    {
     "data": {
      "text/html": [
       "<div>\n",
       "<style>\n",
       "    .dataframe thead tr:only-child th {\n",
       "        text-align: right;\n",
       "    }\n",
       "\n",
       "    .dataframe thead th {\n",
       "        text-align: left;\n",
       "    }\n",
       "\n",
       "    .dataframe tbody tr th {\n",
       "        vertical-align: top;\n",
       "    }\n",
       "</style>\n",
       "<table border=\"1\" class=\"dataframe\">\n",
       "  <thead>\n",
       "    <tr style=\"text-align: right;\">\n",
       "      <th></th>\n",
       "      <th>Wasatch Mean pm2.5</th>\n",
       "      <th>mean_temp</th>\n",
       "      <th>precipitation</th>\n",
       "      <th>pm25_bountiful</th>\n",
       "      <th>pm25_hawthorne</th>\n",
       "      <th>pm25_lindon</th>\n",
       "      <th>pm25_northprovo</th>\n",
       "      <th>pm25_ogden</th>\n",
       "      <th>pm25_rosepark</th>\n",
       "      <th>pm25_spanishfork</th>\n",
       "      <th>pm25_magna</th>\n",
       "      <th>mean_temp</th>\n",
       "      <th>precipitation</th>\n",
       "    </tr>\n",
       "  </thead>\n",
       "  <tbody>\n",
       "    <tr>\n",
       "      <th>count</th>\n",
       "      <td>6210.000000</td>\n",
       "      <td>6210.000000</td>\n",
       "      <td>6206.000000</td>\n",
       "      <td>2318.000000</td>\n",
       "      <td>5964.000000</td>\n",
       "      <td>5863.000000</td>\n",
       "      <td>4043.000000</td>\n",
       "      <td>3901.000000</td>\n",
       "      <td>3092.000000</td>\n",
       "      <td>1933.000000</td>\n",
       "      <td>1560.000000</td>\n",
       "      <td>6210.000000</td>\n",
       "      <td>6206.000000</td>\n",
       "    </tr>\n",
       "    <tr>\n",
       "      <th>mean</th>\n",
       "      <td>5.552738</td>\n",
       "      <td>53.815572</td>\n",
       "      <td>0.041097</td>\n",
       "      <td>9.111087</td>\n",
       "      <td>10.276995</td>\n",
       "      <td>9.765444</td>\n",
       "      <td>9.059436</td>\n",
       "      <td>10.005870</td>\n",
       "      <td>10.004528</td>\n",
       "      <td>8.505122</td>\n",
       "      <td>8.435321</td>\n",
       "      <td>53.815572</td>\n",
       "      <td>0.041097</td>\n",
       "    </tr>\n",
       "    <tr>\n",
       "      <th>std</th>\n",
       "      <td>6.100766</td>\n",
       "      <td>19.270258</td>\n",
       "      <td>0.121806</td>\n",
       "      <td>9.022721</td>\n",
       "      <td>10.828650</td>\n",
       "      <td>9.938652</td>\n",
       "      <td>9.098448</td>\n",
       "      <td>9.146976</td>\n",
       "      <td>9.274220</td>\n",
       "      <td>9.247604</td>\n",
       "      <td>8.673072</td>\n",
       "      <td>19.270258</td>\n",
       "      <td>0.121806</td>\n",
       "    </tr>\n",
       "    <tr>\n",
       "      <th>min</th>\n",
       "      <td>0.000000</td>\n",
       "      <td>5.100000</td>\n",
       "      <td>0.000000</td>\n",
       "      <td>0.000000</td>\n",
       "      <td>0.000000</td>\n",
       "      <td>-0.100000</td>\n",
       "      <td>0.000000</td>\n",
       "      <td>-0.400000</td>\n",
       "      <td>0.000000</td>\n",
       "      <td>0.000000</td>\n",
       "      <td>0.000000</td>\n",
       "      <td>5.100000</td>\n",
       "      <td>0.000000</td>\n",
       "    </tr>\n",
       "    <tr>\n",
       "      <th>25%</th>\n",
       "      <td>2.175000</td>\n",
       "      <td>37.900000</td>\n",
       "      <td>0.000000</td>\n",
       "      <td>4.300000</td>\n",
       "      <td>4.700000</td>\n",
       "      <td>4.700000</td>\n",
       "      <td>4.700000</td>\n",
       "      <td>5.100000</td>\n",
       "      <td>4.700000</td>\n",
       "      <td>4.200000</td>\n",
       "      <td>3.800000</td>\n",
       "      <td>37.900000</td>\n",
       "      <td>0.000000</td>\n",
       "    </tr>\n",
       "    <tr>\n",
       "      <th>50%</th>\n",
       "      <td>3.787500</td>\n",
       "      <td>52.800000</td>\n",
       "      <td>0.000000</td>\n",
       "      <td>6.300000</td>\n",
       "      <td>6.700000</td>\n",
       "      <td>6.800000</td>\n",
       "      <td>6.500000</td>\n",
       "      <td>7.300000</td>\n",
       "      <td>7.100000</td>\n",
       "      <td>6.000000</td>\n",
       "      <td>5.900000</td>\n",
       "      <td>52.800000</td>\n",
       "      <td>0.000000</td>\n",
       "    </tr>\n",
       "    <tr>\n",
       "      <th>75%</th>\n",
       "      <td>6.409375</td>\n",
       "      <td>71.000000</td>\n",
       "      <td>0.010000</td>\n",
       "      <td>10.000000</td>\n",
       "      <td>10.700000</td>\n",
       "      <td>10.500000</td>\n",
       "      <td>9.700000</td>\n",
       "      <td>10.700000</td>\n",
       "      <td>11.200000</td>\n",
       "      <td>8.700000</td>\n",
       "      <td>8.900000</td>\n",
       "      <td>71.000000</td>\n",
       "      <td>0.010000</td>\n",
       "    </tr>\n",
       "    <tr>\n",
       "      <th>max</th>\n",
       "      <td>68.087500</td>\n",
       "      <td>92.200000</td>\n",
       "      <td>1.440000</td>\n",
       "      <td>81.300000</td>\n",
       "      <td>94.200000</td>\n",
       "      <td>123.300000</td>\n",
       "      <td>124.500000</td>\n",
       "      <td>108.300000</td>\n",
       "      <td>78.200000</td>\n",
       "      <td>125.900000</td>\n",
       "      <td>69.000000</td>\n",
       "      <td>92.200000</td>\n",
       "      <td>1.440000</td>\n",
       "    </tr>\n",
       "  </tbody>\n",
       "</table>\n",
       "</div>"
      ],
      "text/plain": [
       "       Wasatch Mean pm2.5    mean_temp  precipitation  pm25_bountiful  \\\n",
       "count         6210.000000  6210.000000    6206.000000     2318.000000   \n",
       "mean             5.552738    53.815572       0.041097        9.111087   \n",
       "std              6.100766    19.270258       0.121806        9.022721   \n",
       "min              0.000000     5.100000       0.000000        0.000000   \n",
       "25%              2.175000    37.900000       0.000000        4.300000   \n",
       "50%              3.787500    52.800000       0.000000        6.300000   \n",
       "75%              6.409375    71.000000       0.010000       10.000000   \n",
       "max             68.087500    92.200000       1.440000       81.300000   \n",
       "\n",
       "       pm25_hawthorne  pm25_lindon  pm25_northprovo   pm25_ogden  \\\n",
       "count     5964.000000  5863.000000      4043.000000  3901.000000   \n",
       "mean        10.276995     9.765444         9.059436    10.005870   \n",
       "std         10.828650     9.938652         9.098448     9.146976   \n",
       "min          0.000000    -0.100000         0.000000    -0.400000   \n",
       "25%          4.700000     4.700000         4.700000     5.100000   \n",
       "50%          6.700000     6.800000         6.500000     7.300000   \n",
       "75%         10.700000    10.500000         9.700000    10.700000   \n",
       "max         94.200000   123.300000       124.500000   108.300000   \n",
       "\n",
       "       pm25_rosepark  pm25_spanishfork   pm25_magna    mean_temp  \\\n",
       "count    3092.000000       1933.000000  1560.000000  6210.000000   \n",
       "mean       10.004528          8.505122     8.435321    53.815572   \n",
       "std         9.274220          9.247604     8.673072    19.270258   \n",
       "min         0.000000          0.000000     0.000000     5.100000   \n",
       "25%         4.700000          4.200000     3.800000    37.900000   \n",
       "50%         7.100000          6.000000     5.900000    52.800000   \n",
       "75%        11.200000          8.700000     8.900000    71.000000   \n",
       "max        78.200000        125.900000    69.000000    92.200000   \n",
       "\n",
       "       precipitation  \n",
       "count    6206.000000  \n",
       "mean        0.041097  \n",
       "std         0.121806  \n",
       "min         0.000000  \n",
       "25%         0.000000  \n",
       "50%         0.000000  \n",
       "75%         0.010000  \n",
       "max         1.440000  "
      ]
     },
     "execution_count": 11,
     "metadata": {},
     "output_type": "execute_result"
    }
   ],
   "source": [
    "# There is significant variance in air pollution, as can be seen. This is not surprising, and max values are considered to be\n",
    "# accurate. Although negative air pollution is impossible, the negative minimums reflect minor errors in instrumentation.\n",
    "# As we expected, the Wasatch mean is the mean of the means.\n",
    "pollution_data.describe()"
   ]
  },
  {
   "cell_type": "code",
   "execution_count": 12,
   "metadata": {
    "collapsed": true
   },
   "outputs": [],
   "source": [
    "# Missing precipitation data may give us problems. To overcome this, we replace missing values with 0\n",
    "# This is not a bad assumption for Utah (see summary stats)\n",
    "pollution_data['precipitation'] = pollution_data['precipitation'].fillna(value=0)"
   ]
  },
  {
   "cell_type": "code",
   "execution_count": 13,
   "metadata": {},
   "outputs": [
    {
     "data": {
      "text/plain": [
       "Index(['pm25_bountiful', 'pm25_hawthorne', 'pm25_lindon', 'pm25_northprovo',\n",
       "       'pm25_ogden', 'pm25_rosepark', 'pm25_spanishfork', 'pm25_magna'],\n",
       "      dtype='object')"
      ]
     },
     "execution_count": 13,
     "metadata": {},
     "output_type": "execute_result"
    }
   ],
   "source": [
    "# We make sure we don't have missing data for mean pollution, mean temperature, or precipitation.\n",
    "pollution_data.columns[pollution_data.isnull().any()]"
   ]
  },
  {
   "cell_type": "code",
   "execution_count": 14,
   "metadata": {},
   "outputs": [
    {
     "data": {
      "text/html": [
       "<div>\n",
       "<style>\n",
       "    .dataframe thead tr:only-child th {\n",
       "        text-align: right;\n",
       "    }\n",
       "\n",
       "    .dataframe thead th {\n",
       "        text-align: left;\n",
       "    }\n",
       "\n",
       "    .dataframe tbody tr th {\n",
       "        vertical-align: top;\n",
       "    }\n",
       "</style>\n",
       "<table border=\"1\" class=\"dataframe\">\n",
       "  <thead>\n",
       "    <tr style=\"text-align: right;\">\n",
       "      <th></th>\n",
       "      <th>Wasatch Mean pm2.5</th>\n",
       "      <th>mean_temp</th>\n",
       "      <th>precipitation</th>\n",
       "      <th>pm25_bountiful</th>\n",
       "      <th>pm25_hawthorne</th>\n",
       "      <th>pm25_lindon</th>\n",
       "      <th>pm25_northprovo</th>\n",
       "      <th>pm25_ogden</th>\n",
       "      <th>pm25_rosepark</th>\n",
       "      <th>pm25_spanishfork</th>\n",
       "      <th>pm25_magna</th>\n",
       "      <th>mean_temp</th>\n",
       "      <th>precipitation</th>\n",
       "    </tr>\n",
       "  </thead>\n",
       "  <tbody>\n",
       "    <tr>\n",
       "      <th>count</th>\n",
       "      <td>6210.000000</td>\n",
       "      <td>6210.000000</td>\n",
       "      <td>6210.000000</td>\n",
       "      <td>2318.000000</td>\n",
       "      <td>5964.000000</td>\n",
       "      <td>5863.000000</td>\n",
       "      <td>4043.000000</td>\n",
       "      <td>3901.000000</td>\n",
       "      <td>3092.000000</td>\n",
       "      <td>1933.000000</td>\n",
       "      <td>1560.000000</td>\n",
       "      <td>6210.000000</td>\n",
       "      <td>6210.000000</td>\n",
       "    </tr>\n",
       "    <tr>\n",
       "      <th>mean</th>\n",
       "      <td>5.552738</td>\n",
       "      <td>53.815572</td>\n",
       "      <td>0.041071</td>\n",
       "      <td>9.111087</td>\n",
       "      <td>10.276995</td>\n",
       "      <td>9.765444</td>\n",
       "      <td>9.059436</td>\n",
       "      <td>10.005870</td>\n",
       "      <td>10.004528</td>\n",
       "      <td>8.505122</td>\n",
       "      <td>8.435321</td>\n",
       "      <td>53.815572</td>\n",
       "      <td>0.041071</td>\n",
       "    </tr>\n",
       "    <tr>\n",
       "      <th>std</th>\n",
       "      <td>6.100766</td>\n",
       "      <td>19.270258</td>\n",
       "      <td>0.121772</td>\n",
       "      <td>9.022721</td>\n",
       "      <td>10.828650</td>\n",
       "      <td>9.938652</td>\n",
       "      <td>9.098448</td>\n",
       "      <td>9.146976</td>\n",
       "      <td>9.274220</td>\n",
       "      <td>9.247604</td>\n",
       "      <td>8.673072</td>\n",
       "      <td>19.270258</td>\n",
       "      <td>0.121772</td>\n",
       "    </tr>\n",
       "    <tr>\n",
       "      <th>min</th>\n",
       "      <td>0.000000</td>\n",
       "      <td>5.100000</td>\n",
       "      <td>0.000000</td>\n",
       "      <td>0.000000</td>\n",
       "      <td>0.000000</td>\n",
       "      <td>-0.100000</td>\n",
       "      <td>0.000000</td>\n",
       "      <td>-0.400000</td>\n",
       "      <td>0.000000</td>\n",
       "      <td>0.000000</td>\n",
       "      <td>0.000000</td>\n",
       "      <td>5.100000</td>\n",
       "      <td>0.000000</td>\n",
       "    </tr>\n",
       "    <tr>\n",
       "      <th>25%</th>\n",
       "      <td>2.175000</td>\n",
       "      <td>37.900000</td>\n",
       "      <td>0.000000</td>\n",
       "      <td>4.300000</td>\n",
       "      <td>4.700000</td>\n",
       "      <td>4.700000</td>\n",
       "      <td>4.700000</td>\n",
       "      <td>5.100000</td>\n",
       "      <td>4.700000</td>\n",
       "      <td>4.200000</td>\n",
       "      <td>3.800000</td>\n",
       "      <td>37.900000</td>\n",
       "      <td>0.000000</td>\n",
       "    </tr>\n",
       "    <tr>\n",
       "      <th>50%</th>\n",
       "      <td>3.787500</td>\n",
       "      <td>52.800000</td>\n",
       "      <td>0.000000</td>\n",
       "      <td>6.300000</td>\n",
       "      <td>6.700000</td>\n",
       "      <td>6.800000</td>\n",
       "      <td>6.500000</td>\n",
       "      <td>7.300000</td>\n",
       "      <td>7.100000</td>\n",
       "      <td>6.000000</td>\n",
       "      <td>5.900000</td>\n",
       "      <td>52.800000</td>\n",
       "      <td>0.000000</td>\n",
       "    </tr>\n",
       "    <tr>\n",
       "      <th>75%</th>\n",
       "      <td>6.409375</td>\n",
       "      <td>71.000000</td>\n",
       "      <td>0.010000</td>\n",
       "      <td>10.000000</td>\n",
       "      <td>10.700000</td>\n",
       "      <td>10.500000</td>\n",
       "      <td>9.700000</td>\n",
       "      <td>10.700000</td>\n",
       "      <td>11.200000</td>\n",
       "      <td>8.700000</td>\n",
       "      <td>8.900000</td>\n",
       "      <td>71.000000</td>\n",
       "      <td>0.010000</td>\n",
       "    </tr>\n",
       "    <tr>\n",
       "      <th>max</th>\n",
       "      <td>68.087500</td>\n",
       "      <td>92.200000</td>\n",
       "      <td>1.440000</td>\n",
       "      <td>81.300000</td>\n",
       "      <td>94.200000</td>\n",
       "      <td>123.300000</td>\n",
       "      <td>124.500000</td>\n",
       "      <td>108.300000</td>\n",
       "      <td>78.200000</td>\n",
       "      <td>125.900000</td>\n",
       "      <td>69.000000</td>\n",
       "      <td>92.200000</td>\n",
       "      <td>1.440000</td>\n",
       "    </tr>\n",
       "  </tbody>\n",
       "</table>\n",
       "</div>"
      ],
      "text/plain": [
       "       Wasatch Mean pm2.5    mean_temp  precipitation  pm25_bountiful  \\\n",
       "count         6210.000000  6210.000000    6210.000000     2318.000000   \n",
       "mean             5.552738    53.815572       0.041071        9.111087   \n",
       "std              6.100766    19.270258       0.121772        9.022721   \n",
       "min              0.000000     5.100000       0.000000        0.000000   \n",
       "25%              2.175000    37.900000       0.000000        4.300000   \n",
       "50%              3.787500    52.800000       0.000000        6.300000   \n",
       "75%              6.409375    71.000000       0.010000       10.000000   \n",
       "max             68.087500    92.200000       1.440000       81.300000   \n",
       "\n",
       "       pm25_hawthorne  pm25_lindon  pm25_northprovo   pm25_ogden  \\\n",
       "count     5964.000000  5863.000000      4043.000000  3901.000000   \n",
       "mean        10.276995     9.765444         9.059436    10.005870   \n",
       "std         10.828650     9.938652         9.098448     9.146976   \n",
       "min          0.000000    -0.100000         0.000000    -0.400000   \n",
       "25%          4.700000     4.700000         4.700000     5.100000   \n",
       "50%          6.700000     6.800000         6.500000     7.300000   \n",
       "75%         10.700000    10.500000         9.700000    10.700000   \n",
       "max         94.200000   123.300000       124.500000   108.300000   \n",
       "\n",
       "       pm25_rosepark  pm25_spanishfork   pm25_magna    mean_temp  \\\n",
       "count    3092.000000       1933.000000  1560.000000  6210.000000   \n",
       "mean       10.004528          8.505122     8.435321    53.815572   \n",
       "std         9.274220          9.247604     8.673072    19.270258   \n",
       "min         0.000000          0.000000     0.000000     5.100000   \n",
       "25%         4.700000          4.200000     3.800000    37.900000   \n",
       "50%         7.100000          6.000000     5.900000    52.800000   \n",
       "75%        11.200000          8.700000     8.900000    71.000000   \n",
       "max        78.200000        125.900000    69.000000    92.200000   \n",
       "\n",
       "       precipitation  \n",
       "count    6210.000000  \n",
       "mean        0.041071  \n",
       "std         0.121772  \n",
       "min         0.000000  \n",
       "25%         0.000000  \n",
       "50%         0.000000  \n",
       "75%         0.010000  \n",
       "max         1.440000  "
      ]
     },
     "execution_count": 14,
     "metadata": {},
     "output_type": "execute_result"
    }
   ],
   "source": [
    "# We look at summary statistics again to make sure we didn't change average precipitation too drastically.\n",
    "# It lowered, but only slightly. That's comforting.\n",
    "pollution_data.describe()"
   ]
  },
  {
   "cell_type": "code",
   "execution_count": 15,
   "metadata": {},
   "outputs": [
    {
     "data": {
      "text/html": [
       "<div>\n",
       "<style>\n",
       "    .dataframe thead tr:only-child th {\n",
       "        text-align: right;\n",
       "    }\n",
       "\n",
       "    .dataframe thead th {\n",
       "        text-align: left;\n",
       "    }\n",
       "\n",
       "    .dataframe tbody tr th {\n",
       "        vertical-align: top;\n",
       "    }\n",
       "</style>\n",
       "<table border=\"1\" class=\"dataframe\">\n",
       "  <thead>\n",
       "    <tr style=\"text-align: right;\">\n",
       "      <th></th>\n",
       "      <th>Wasatch Mean pm2.5</th>\n",
       "      <th>mean_temp</th>\n",
       "      <th>precipitation</th>\n",
       "      <th>pm25_bountiful</th>\n",
       "      <th>pm25_hawthorne</th>\n",
       "      <th>pm25_lindon</th>\n",
       "      <th>pm25_northprovo</th>\n",
       "      <th>pm25_ogden</th>\n",
       "      <th>pm25_rosepark</th>\n",
       "      <th>pm25_spanishfork</th>\n",
       "      <th>pm25_magna</th>\n",
       "      <th>mean_temp</th>\n",
       "      <th>precipitation</th>\n",
       "    </tr>\n",
       "  </thead>\n",
       "  <tbody>\n",
       "    <tr>\n",
       "      <th>Wasatch Mean pm2.5</th>\n",
       "      <td>1.000000</td>\n",
       "      <td>-0.292239</td>\n",
       "      <td>-0.134291</td>\n",
       "      <td>0.909122</td>\n",
       "      <td>0.787002</td>\n",
       "      <td>0.798201</td>\n",
       "      <td>0.892776</td>\n",
       "      <td>0.872836</td>\n",
       "      <td>0.881083</td>\n",
       "      <td>0.899567</td>\n",
       "      <td>0.927938</td>\n",
       "      <td>-0.292239</td>\n",
       "      <td>-0.134291</td>\n",
       "    </tr>\n",
       "    <tr>\n",
       "      <th>mean_temp</th>\n",
       "      <td>-0.292239</td>\n",
       "      <td>1.000000</td>\n",
       "      <td>-0.148100</td>\n",
       "      <td>-0.300567</td>\n",
       "      <td>-0.400189</td>\n",
       "      <td>-0.345827</td>\n",
       "      <td>-0.303971</td>\n",
       "      <td>-0.294893</td>\n",
       "      <td>-0.277059</td>\n",
       "      <td>-0.299811</td>\n",
       "      <td>-0.302965</td>\n",
       "      <td>1.000000</td>\n",
       "      <td>-0.148100</td>\n",
       "    </tr>\n",
       "    <tr>\n",
       "      <th>precipitation</th>\n",
       "      <td>-0.134291</td>\n",
       "      <td>-0.148100</td>\n",
       "      <td>1.000000</td>\n",
       "      <td>-0.156001</td>\n",
       "      <td>-0.139161</td>\n",
       "      <td>-0.144097</td>\n",
       "      <td>-0.138725</td>\n",
       "      <td>-0.157516</td>\n",
       "      <td>-0.166791</td>\n",
       "      <td>-0.127830</td>\n",
       "      <td>-0.162574</td>\n",
       "      <td>-0.148100</td>\n",
       "      <td>1.000000</td>\n",
       "    </tr>\n",
       "    <tr>\n",
       "      <th>pm25_bountiful</th>\n",
       "      <td>0.909122</td>\n",
       "      <td>-0.300567</td>\n",
       "      <td>-0.156001</td>\n",
       "      <td>1.000000</td>\n",
       "      <td>0.923848</td>\n",
       "      <td>0.804787</td>\n",
       "      <td>0.777824</td>\n",
       "      <td>0.862737</td>\n",
       "      <td>0.871214</td>\n",
       "      <td>0.752965</td>\n",
       "      <td>0.919447</td>\n",
       "      <td>-0.300567</td>\n",
       "      <td>-0.156001</td>\n",
       "    </tr>\n",
       "    <tr>\n",
       "      <th>pm25_hawthorne</th>\n",
       "      <td>0.787002</td>\n",
       "      <td>-0.400189</td>\n",
       "      <td>-0.139161</td>\n",
       "      <td>0.923848</td>\n",
       "      <td>1.000000</td>\n",
       "      <td>0.862539</td>\n",
       "      <td>0.843533</td>\n",
       "      <td>0.879719</td>\n",
       "      <td>0.932252</td>\n",
       "      <td>0.808365</td>\n",
       "      <td>0.937457</td>\n",
       "      <td>-0.400189</td>\n",
       "      <td>-0.139161</td>\n",
       "    </tr>\n",
       "    <tr>\n",
       "      <th>pm25_lindon</th>\n",
       "      <td>0.798201</td>\n",
       "      <td>-0.345827</td>\n",
       "      <td>-0.144097</td>\n",
       "      <td>0.804787</td>\n",
       "      <td>0.862539</td>\n",
       "      <td>1.000000</td>\n",
       "      <td>0.968206</td>\n",
       "      <td>0.794902</td>\n",
       "      <td>0.796579</td>\n",
       "      <td>0.941236</td>\n",
       "      <td>0.813440</td>\n",
       "      <td>-0.345827</td>\n",
       "      <td>-0.144097</td>\n",
       "    </tr>\n",
       "    <tr>\n",
       "      <th>pm25_northprovo</th>\n",
       "      <td>0.892776</td>\n",
       "      <td>-0.303971</td>\n",
       "      <td>-0.138725</td>\n",
       "      <td>0.777824</td>\n",
       "      <td>0.843533</td>\n",
       "      <td>0.968206</td>\n",
       "      <td>1.000000</td>\n",
       "      <td>0.779626</td>\n",
       "      <td>0.784587</td>\n",
       "      <td>0.954694</td>\n",
       "      <td>0.796695</td>\n",
       "      <td>-0.303971</td>\n",
       "      <td>-0.138725</td>\n",
       "    </tr>\n",
       "    <tr>\n",
       "      <th>pm25_ogden</th>\n",
       "      <td>0.872836</td>\n",
       "      <td>-0.294893</td>\n",
       "      <td>-0.157516</td>\n",
       "      <td>0.862737</td>\n",
       "      <td>0.879719</td>\n",
       "      <td>0.794902</td>\n",
       "      <td>0.779626</td>\n",
       "      <td>1.000000</td>\n",
       "      <td>0.885570</td>\n",
       "      <td>0.736090</td>\n",
       "      <td>0.879691</td>\n",
       "      <td>-0.294893</td>\n",
       "      <td>-0.157516</td>\n",
       "    </tr>\n",
       "    <tr>\n",
       "      <th>pm25_rosepark</th>\n",
       "      <td>0.881083</td>\n",
       "      <td>-0.277059</td>\n",
       "      <td>-0.166791</td>\n",
       "      <td>0.871214</td>\n",
       "      <td>0.932252</td>\n",
       "      <td>0.796579</td>\n",
       "      <td>0.784587</td>\n",
       "      <td>0.885570</td>\n",
       "      <td>1.000000</td>\n",
       "      <td>0.749956</td>\n",
       "      <td>0.935762</td>\n",
       "      <td>-0.277059</td>\n",
       "      <td>-0.166791</td>\n",
       "    </tr>\n",
       "    <tr>\n",
       "      <th>pm25_spanishfork</th>\n",
       "      <td>0.899567</td>\n",
       "      <td>-0.299811</td>\n",
       "      <td>-0.127830</td>\n",
       "      <td>0.752965</td>\n",
       "      <td>0.808365</td>\n",
       "      <td>0.941236</td>\n",
       "      <td>0.954694</td>\n",
       "      <td>0.736090</td>\n",
       "      <td>0.749956</td>\n",
       "      <td>1.000000</td>\n",
       "      <td>0.770826</td>\n",
       "      <td>-0.299811</td>\n",
       "      <td>-0.127830</td>\n",
       "    </tr>\n",
       "    <tr>\n",
       "      <th>pm25_magna</th>\n",
       "      <td>0.927938</td>\n",
       "      <td>-0.302965</td>\n",
       "      <td>-0.162574</td>\n",
       "      <td>0.919447</td>\n",
       "      <td>0.937457</td>\n",
       "      <td>0.813440</td>\n",
       "      <td>0.796695</td>\n",
       "      <td>0.879691</td>\n",
       "      <td>0.935762</td>\n",
       "      <td>0.770826</td>\n",
       "      <td>1.000000</td>\n",
       "      <td>-0.302965</td>\n",
       "      <td>-0.162574</td>\n",
       "    </tr>\n",
       "    <tr>\n",
       "      <th>mean_temp</th>\n",
       "      <td>-0.292239</td>\n",
       "      <td>1.000000</td>\n",
       "      <td>-0.148100</td>\n",
       "      <td>-0.300567</td>\n",
       "      <td>-0.400189</td>\n",
       "      <td>-0.345827</td>\n",
       "      <td>-0.303971</td>\n",
       "      <td>-0.294893</td>\n",
       "      <td>-0.277059</td>\n",
       "      <td>-0.299811</td>\n",
       "      <td>-0.302965</td>\n",
       "      <td>1.000000</td>\n",
       "      <td>-0.148100</td>\n",
       "    </tr>\n",
       "    <tr>\n",
       "      <th>precipitation</th>\n",
       "      <td>-0.134291</td>\n",
       "      <td>-0.148100</td>\n",
       "      <td>1.000000</td>\n",
       "      <td>-0.156001</td>\n",
       "      <td>-0.139161</td>\n",
       "      <td>-0.144097</td>\n",
       "      <td>-0.138725</td>\n",
       "      <td>-0.157516</td>\n",
       "      <td>-0.166791</td>\n",
       "      <td>-0.127830</td>\n",
       "      <td>-0.162574</td>\n",
       "      <td>-0.148100</td>\n",
       "      <td>1.000000</td>\n",
       "    </tr>\n",
       "  </tbody>\n",
       "</table>\n",
       "</div>"
      ],
      "text/plain": [
       "                    Wasatch Mean pm2.5  mean_temp  precipitation  \\\n",
       "Wasatch Mean pm2.5            1.000000  -0.292239      -0.134291   \n",
       "mean_temp                    -0.292239   1.000000      -0.148100   \n",
       "precipitation                -0.134291  -0.148100       1.000000   \n",
       "pm25_bountiful                0.909122  -0.300567      -0.156001   \n",
       "pm25_hawthorne                0.787002  -0.400189      -0.139161   \n",
       "pm25_lindon                   0.798201  -0.345827      -0.144097   \n",
       "pm25_northprovo               0.892776  -0.303971      -0.138725   \n",
       "pm25_ogden                    0.872836  -0.294893      -0.157516   \n",
       "pm25_rosepark                 0.881083  -0.277059      -0.166791   \n",
       "pm25_spanishfork              0.899567  -0.299811      -0.127830   \n",
       "pm25_magna                    0.927938  -0.302965      -0.162574   \n",
       "mean_temp                    -0.292239   1.000000      -0.148100   \n",
       "precipitation                -0.134291  -0.148100       1.000000   \n",
       "\n",
       "                    pm25_bountiful  pm25_hawthorne  pm25_lindon  \\\n",
       "Wasatch Mean pm2.5        0.909122        0.787002     0.798201   \n",
       "mean_temp                -0.300567       -0.400189    -0.345827   \n",
       "precipitation            -0.156001       -0.139161    -0.144097   \n",
       "pm25_bountiful            1.000000        0.923848     0.804787   \n",
       "pm25_hawthorne            0.923848        1.000000     0.862539   \n",
       "pm25_lindon               0.804787        0.862539     1.000000   \n",
       "pm25_northprovo           0.777824        0.843533     0.968206   \n",
       "pm25_ogden                0.862737        0.879719     0.794902   \n",
       "pm25_rosepark             0.871214        0.932252     0.796579   \n",
       "pm25_spanishfork          0.752965        0.808365     0.941236   \n",
       "pm25_magna                0.919447        0.937457     0.813440   \n",
       "mean_temp                -0.300567       -0.400189    -0.345827   \n",
       "precipitation            -0.156001       -0.139161    -0.144097   \n",
       "\n",
       "                    pm25_northprovo  pm25_ogden  pm25_rosepark  \\\n",
       "Wasatch Mean pm2.5         0.892776    0.872836       0.881083   \n",
       "mean_temp                 -0.303971   -0.294893      -0.277059   \n",
       "precipitation             -0.138725   -0.157516      -0.166791   \n",
       "pm25_bountiful             0.777824    0.862737       0.871214   \n",
       "pm25_hawthorne             0.843533    0.879719       0.932252   \n",
       "pm25_lindon                0.968206    0.794902       0.796579   \n",
       "pm25_northprovo            1.000000    0.779626       0.784587   \n",
       "pm25_ogden                 0.779626    1.000000       0.885570   \n",
       "pm25_rosepark              0.784587    0.885570       1.000000   \n",
       "pm25_spanishfork           0.954694    0.736090       0.749956   \n",
       "pm25_magna                 0.796695    0.879691       0.935762   \n",
       "mean_temp                 -0.303971   -0.294893      -0.277059   \n",
       "precipitation             -0.138725   -0.157516      -0.166791   \n",
       "\n",
       "                    pm25_spanishfork  pm25_magna  mean_temp  precipitation  \n",
       "Wasatch Mean pm2.5          0.899567    0.927938  -0.292239      -0.134291  \n",
       "mean_temp                  -0.299811   -0.302965   1.000000      -0.148100  \n",
       "precipitation              -0.127830   -0.162574  -0.148100       1.000000  \n",
       "pm25_bountiful              0.752965    0.919447  -0.300567      -0.156001  \n",
       "pm25_hawthorne              0.808365    0.937457  -0.400189      -0.139161  \n",
       "pm25_lindon                 0.941236    0.813440  -0.345827      -0.144097  \n",
       "pm25_northprovo             0.954694    0.796695  -0.303971      -0.138725  \n",
       "pm25_ogden                  0.736090    0.879691  -0.294893      -0.157516  \n",
       "pm25_rosepark               0.749956    0.935762  -0.277059      -0.166791  \n",
       "pm25_spanishfork            1.000000    0.770826  -0.299811      -0.127830  \n",
       "pm25_magna                  0.770826    1.000000  -0.302965      -0.162574  \n",
       "mean_temp                  -0.299811   -0.302965   1.000000      -0.148100  \n",
       "precipitation              -0.127830   -0.162574  -0.148100       1.000000  "
      ]
     },
     "execution_count": 15,
     "metadata": {},
     "output_type": "execute_result"
    }
   ],
   "source": [
    "# As we would expect, air pollution along the Wasatch front is very highly correlated in different cities. Also, closer cities\n",
    "# are more highly correlated. Surprisingly, mean_temp is negatively correlated with air pollution. It's not surprising that \n",
    "# precipitation is negatively correlated with pollution since weather fronts generally push dirty air out of the values.\n",
    "pollution_data.corr()"
   ]
  },
  {
   "cell_type": "code",
   "execution_count": 16,
   "metadata": {},
   "outputs": [
    {
     "data": {
      "text/plain": [
       "<matplotlib.axes._subplots.AxesSubplot at 0x20f2c9a9b00>"
      ]
     },
     "execution_count": 16,
     "metadata": {},
     "output_type": "execute_result"
    },
    {
     "data": {
      "image/png": "[encoded data removed]",
      "text/plain": [
       "<matplotlib.figure.Figure at 0x20f2c9a9940>"
      ]
     },
     "metadata": {},
     "output_type": "display_data"
    }
   ],
   "source": [
    "# Visualize the distribution with a box plot. Here we see that pm2.5 is no normally distributed.\n",
    "sns.boxplot(pollution_data['Wasatch Mean pm2.5'])"
   ]
  },
  {
   "cell_type": "code",
   "execution_count": 17,
   "metadata": {
    "scrolled": true
   },
   "outputs": [
    {
     "data": {
      "text/plain": [
       "<matplotlib.axes._subplots.AxesSubplot at 0x20f2c994cf8>"
      ]
     },
     "execution_count": 17,
     "metadata": {},
     "output_type": "execute_result"
    },
    {
     "data": {
      "image/png": "[encoded data removed]",
      "text/plain": [
       "<matplotlib.figure.Figure at 0x20f2cb00128>"
      ]
     },
     "metadata": {},
     "output_type": "display_data"
    }
   ],
   "source": [
    "# Visualize with violin plot. It tells a similar story. PM2.5 levels are often near but not equal to 0. Very positively skewed.\n",
    "sns.violinplot(pollution_data['Wasatch Mean pm2.5'])"
   ]
  },
  {
   "cell_type": "code",
   "execution_count": 18,
   "metadata": {},
   "outputs": [
    {
     "name": "stderr",
     "output_type": "stream",
     "text": [
      "C:\\Users\\jacob\\Anaconda3\\lib\\site-packages\\seaborn\\timeseries.py:183: UserWarning: The tsplot function is deprecated and will be removed or replaced (in a substantially altered version) in a future release.\n",
      "  warnings.warn(msg, UserWarning)\n"
     ]
    },
    {
     "data": {
      "text/plain": [
       "<matplotlib.axes._subplots.AxesSubplot at 0x20f2cd15ba8>"
      ]
     },
     "execution_count": 18,
     "metadata": {},
     "output_type": "execute_result"
    },
    {
     "data": {
      "image/png": "[encoded data removed]",
      "text/plain": [
       "<matplotlib.figure.Figure at 0x20f2cb59780>"
      ]
     },
     "metadata": {},
     "output_type": "display_data"
    }
   ],
   "source": [
    "# Here we make our first crude time series plot. We not that the jumps in air pollution seem periodic, perhaps seasonal. This \n",
    "# is likely because temperature inversions in the valleys tend to trap air pollution when they occur during the winter months.\n",
    "f, ax = plt.subplots(figsize=(15, 6))\n",
    "sns.tsplot(pollution_data['Wasatch Mean pm2.5'], time=pollution_data.index.to_pydatetime(), value='Wasatch Mean pm2.5 (ug/m3)',\n",
    "          ax=ax, condition='Observed Daily Pollution Levels along the Watach Front: 2000-2016', legend=True)"
   ]
  },
  {
   "cell_type": "code",
   "execution_count": 19,
   "metadata": {
    "scrolled": true
   },
   "outputs": [
    {
     "data": {
      "text/html": [
       "<div>\n",
       "<style>\n",
       "    .dataframe thead tr:only-child th {\n",
       "        text-align: right;\n",
       "    }\n",
       "\n",
       "    .dataframe thead th {\n",
       "        text-align: left;\n",
       "    }\n",
       "\n",
       "    .dataframe tbody tr th {\n",
       "        vertical-align: top;\n",
       "    }\n",
       "</style>\n",
       "<table border=\"1\" class=\"dataframe\">\n",
       "  <thead>\n",
       "    <tr style=\"text-align: right;\">\n",
       "      <th></th>\n",
       "      <th>Pollution</th>\n",
       "    </tr>\n",
       "    <tr>\n",
       "      <th>Date</th>\n",
       "      <th></th>\n",
       "    </tr>\n",
       "  </thead>\n",
       "  <tbody>\n",
       "    <tr>\n",
       "      <th>2000-01-31</th>\n",
       "      <td>5.552016</td>\n",
       "    </tr>\n",
       "    <tr>\n",
       "      <th>2000-02-29</th>\n",
       "      <td>3.793966</td>\n",
       "    </tr>\n",
       "    <tr>\n",
       "      <th>2000-03-31</th>\n",
       "      <td>2.599597</td>\n",
       "    </tr>\n",
       "    <tr>\n",
       "      <th>2000-04-30</th>\n",
       "      <td>2.292500</td>\n",
       "    </tr>\n",
       "    <tr>\n",
       "      <th>2000-05-31</th>\n",
       "      <td>2.030645</td>\n",
       "    </tr>\n",
       "  </tbody>\n",
       "</table>\n",
       "</div>"
      ],
      "text/plain": [
       "            Pollution\n",
       "Date                 \n",
       "2000-01-31   5.552016\n",
       "2000-02-29   3.793966\n",
       "2000-03-31   2.599597\n",
       "2000-04-30   2.292500\n",
       "2000-05-31   2.030645"
      ]
     },
     "execution_count": 19,
     "metadata": {},
     "output_type": "execute_result"
    }
   ],
   "source": [
    "# We want to visualize our data by looking at monthly averages and how these change from year to year. We make another dataset\n",
    "# and use the resample function to take monthly averages. We start using \"pollution\" to make the interpretation easier.\n",
    "monthly_summary = pd.DataFrame()\n",
    "monthly_summary['Pollution'] = pollution_data['Wasatch Mean pm2.5'].resample('M').mean()\n",
    "monthly_summary.head()"
   ]
  },
  {
   "cell_type": "code",
   "execution_count": 20,
   "metadata": {
    "collapsed": true
   },
   "outputs": [],
   "source": [
    "# Now we create variables that mark the month and year of the observed average pollution\n",
    "monthly_summary['Month'] = pd.DatetimeIndex(monthly_summary.index).month\n",
    "monthly_summary['Year'] = pd.DatetimeIndex(monthly_summary.index).year"
   ]
  },
  {
   "cell_type": "code",
   "execution_count": 21,
   "metadata": {
    "collapsed": true
   },
   "outputs": [],
   "source": [
    "# This function pivots the table into the format we need.\n",
    "month_sum_piv = monthly_summary.pivot('Month', 'Year', 'Pollution')"
   ]
  },
  {
   "cell_type": "code",
   "execution_count": 22,
   "metadata": {},
   "outputs": [
    {
     "data": {
      "text/html": [
       "<div>\n",
       "<style>\n",
       "    .dataframe thead tr:only-child th {\n",
       "        text-align: right;\n",
       "    }\n",
       "\n",
       "    .dataframe thead th {\n",
       "        text-align: left;\n",
       "    }\n",
       "\n",
       "    .dataframe tbody tr th {\n",
       "        vertical-align: top;\n",
       "    }\n",
       "</style>\n",
       "<table border=\"1\" class=\"dataframe\">\n",
       "  <thead>\n",
       "    <tr style=\"text-align: right;\">\n",
       "      <th>Year</th>\n",
       "      <th>2000</th>\n",
       "      <th>2001</th>\n",
       "      <th>2002</th>\n",
       "      <th>2003</th>\n",
       "      <th>2004</th>\n",
       "      <th>2005</th>\n",
       "      <th>2006</th>\n",
       "      <th>2007</th>\n",
       "      <th>2008</th>\n",
       "      <th>2009</th>\n",
       "      <th>2010</th>\n",
       "      <th>2011</th>\n",
       "      <th>2012</th>\n",
       "      <th>2013</th>\n",
       "      <th>2014</th>\n",
       "      <th>2015</th>\n",
       "      <th>2016</th>\n",
       "    </tr>\n",
       "    <tr>\n",
       "      <th>Month</th>\n",
       "      <th></th>\n",
       "      <th></th>\n",
       "      <th></th>\n",
       "      <th></th>\n",
       "      <th></th>\n",
       "      <th></th>\n",
       "      <th></th>\n",
       "      <th></th>\n",
       "      <th></th>\n",
       "      <th></th>\n",
       "      <th></th>\n",
       "      <th></th>\n",
       "      <th></th>\n",
       "      <th></th>\n",
       "      <th></th>\n",
       "      <th></th>\n",
       "      <th></th>\n",
       "    </tr>\n",
       "  </thead>\n",
       "  <tbody>\n",
       "    <tr>\n",
       "      <th>1</th>\n",
       "      <td>5.552016</td>\n",
       "      <td>10.485081</td>\n",
       "      <td>9.592339</td>\n",
       "      <td>6.812500</td>\n",
       "      <td>15.928629</td>\n",
       "      <td>8.071371</td>\n",
       "      <td>4.908871</td>\n",
       "      <td>14.274597</td>\n",
       "      <td>9.829839</td>\n",
       "      <td>19.114516</td>\n",
       "      <td>17.577419</td>\n",
       "      <td>15.391532</td>\n",
       "      <td>8.487500</td>\n",
       "      <td>26.546774</td>\n",
       "      <td>17.654435</td>\n",
       "      <td>13.587500</td>\n",
       "      <td>9.901613</td>\n",
       "    </tr>\n",
       "    <tr>\n",
       "      <th>2</th>\n",
       "      <td>3.793966</td>\n",
       "      <td>4.195982</td>\n",
       "      <td>11.597321</td>\n",
       "      <td>4.271875</td>\n",
       "      <td>12.251724</td>\n",
       "      <td>6.047321</td>\n",
       "      <td>5.243750</td>\n",
       "      <td>3.949554</td>\n",
       "      <td>12.840517</td>\n",
       "      <td>7.518304</td>\n",
       "      <td>8.888839</td>\n",
       "      <td>4.181696</td>\n",
       "      <td>5.007328</td>\n",
       "      <td>13.521429</td>\n",
       "      <td>3.587500</td>\n",
       "      <td>3.177232</td>\n",
       "      <td>14.084052</td>\n",
       "    </tr>\n",
       "    <tr>\n",
       "      <th>3</th>\n",
       "      <td>2.599597</td>\n",
       "      <td>2.629435</td>\n",
       "      <td>2.682661</td>\n",
       "      <td>2.217339</td>\n",
       "      <td>4.844355</td>\n",
       "      <td>2.479435</td>\n",
       "      <td>2.377016</td>\n",
       "      <td>3.355242</td>\n",
       "      <td>4.441935</td>\n",
       "      <td>5.495968</td>\n",
       "      <td>6.604032</td>\n",
       "      <td>3.384274</td>\n",
       "      <td>3.606855</td>\n",
       "      <td>5.256452</td>\n",
       "      <td>2.551210</td>\n",
       "      <td>3.401210</td>\n",
       "      <td>3.265726</td>\n",
       "    </tr>\n",
       "    <tr>\n",
       "      <th>4</th>\n",
       "      <td>2.292500</td>\n",
       "      <td>2.664167</td>\n",
       "      <td>2.277500</td>\n",
       "      <td>2.442917</td>\n",
       "      <td>3.117500</td>\n",
       "      <td>2.753750</td>\n",
       "      <td>2.413333</td>\n",
       "      <td>3.107083</td>\n",
       "      <td>6.970417</td>\n",
       "      <td>3.993750</td>\n",
       "      <td>4.210833</td>\n",
       "      <td>3.047917</td>\n",
       "      <td>2.780417</td>\n",
       "      <td>3.268333</td>\n",
       "      <td>3.012917</td>\n",
       "      <td>4.538750</td>\n",
       "      <td>2.662500</td>\n",
       "    </tr>\n",
       "    <tr>\n",
       "      <th>5</th>\n",
       "      <td>2.030645</td>\n",
       "      <td>2.085887</td>\n",
       "      <td>2.081855</td>\n",
       "      <td>2.073387</td>\n",
       "      <td>3.408468</td>\n",
       "      <td>2.522984</td>\n",
       "      <td>2.864919</td>\n",
       "      <td>3.775403</td>\n",
       "      <td>5.523387</td>\n",
       "      <td>4.533065</td>\n",
       "      <td>3.238306</td>\n",
       "      <td>2.347581</td>\n",
       "      <td>5.194355</td>\n",
       "      <td>3.240323</td>\n",
       "      <td>3.653629</td>\n",
       "      <td>3.015323</td>\n",
       "      <td>3.396371</td>\n",
       "    </tr>\n",
       "  </tbody>\n",
       "</table>\n",
       "</div>"
      ],
      "text/plain": [
       "Year       2000       2001       2002      2003       2004      2005  \\\n",
       "Month                                                                  \n",
       "1      5.552016  10.485081   9.592339  6.812500  15.928629  8.071371   \n",
       "2      3.793966   4.195982  11.597321  4.271875  12.251724  6.047321   \n",
       "3      2.599597   2.629435   2.682661  2.217339   4.844355  2.479435   \n",
       "4      2.292500   2.664167   2.277500  2.442917   3.117500  2.753750   \n",
       "5      2.030645   2.085887   2.081855  2.073387   3.408468  2.522984   \n",
       "\n",
       "Year       2006       2007       2008       2009       2010       2011  \\\n",
       "Month                                                                    \n",
       "1      4.908871  14.274597   9.829839  19.114516  17.577419  15.391532   \n",
       "2      5.243750   3.949554  12.840517   7.518304   8.888839   4.181696   \n",
       "3      2.377016   3.355242   4.441935   5.495968   6.604032   3.384274   \n",
       "4      2.413333   3.107083   6.970417   3.993750   4.210833   3.047917   \n",
       "5      2.864919   3.775403   5.523387   4.533065   3.238306   2.347581   \n",
       "\n",
       "Year       2012       2013       2014       2015       2016  \n",
       "Month                                                        \n",
       "1      8.487500  26.546774  17.654435  13.587500   9.901613  \n",
       "2      5.007328  13.521429   3.587500   3.177232  14.084052  \n",
       "3      3.606855   5.256452   2.551210   3.401210   3.265726  \n",
       "4      2.780417   3.268333   3.012917   4.538750   2.662500  \n",
       "5      5.194355   3.240323   3.653629   3.015323   3.396371  "
      ]
     },
     "execution_count": 22,
     "metadata": {},
     "output_type": "execute_result"
    }
   ],
   "source": [
    "# We confirm that it looks how we want it to.\n",
    "month_sum_piv.head()"
   ]
  },
  {
   "cell_type": "code",
   "execution_count": 23,
   "metadata": {
    "scrolled": true
   },
   "outputs": [
    {
     "data": {
      "text/plain": [
       "<matplotlib.axes._subplots.AxesSubplot at 0x20f2cd9d9e8>"
      ]
     },
     "execution_count": 23,
     "metadata": {},
     "output_type": "execute_result"
    },
    {
     "data": {
      "image/png": "[encoded data removed]",
      "text/plain": [
       "<matplotlib.figure.Figure at 0x20f2cb004a8>"
      ]
     },
     "metadata": {},
     "output_type": "display_data"
    }
   ],
   "source": [
    "# Finally we're ready for the glorious heat map. Note that the boxes tend to get darker from year to year. I had thought \n",
    "# pollutio had been decreasing over the last several years. This figure tells a different story for the Wasatch front. Pollution\n",
    "# levels are still generally increasing, especially throughout the summer months. \n",
    "f, ax = plt.subplots(figsize=(15, 6))\n",
    "cmap = sns.cm.rocket_r #Inverts the color scheme so darker represents the higher value.\n",
    "sns.heatmap(month_sum_piv, annot=True, ax=ax, linewidths=.5, cmap=cmap)"
   ]
  },
  {
   "cell_type": "markdown",
   "metadata": {},
   "source": [
    "### Dataset 2: Yearrly Meteor Counts\n",
    "\n",
    "These data are from NASA's Open Data Portal. They consist of the names, locations, and years of all known meteor landings. We first import the data. Then we clean it by extracting the year from each recorded meteor. Then we visualize the data by looking at the number of recorded meteor landings from 1970 to 1999 plotted by year. We also look at the distribution of meteor landings."
   ]
  },
  {
   "cell_type": "code",
   "execution_count": 24,
   "metadata": {},
   "outputs": [
    {
     "name": "stdout",
     "output_type": "stream",
     "text": [
      "<class 'pandas.core.frame.DataFrame'>\n",
      "Index: 45716 entries, Aachen to Zulu Queen\n",
      "Data columns (total 7 columns):\n",
      "ID                45716 non-null int64\n",
      "NameType          45716 non-null object\n",
      "Classification    45716 non-null object\n",
      "Mass              45716 non-null object\n",
      "Fall              45716 non-null object\n",
      "Year              45716 non-null object\n",
      "Coordinates       45716 non-null object\n",
      "dtypes: int64(1), object(6)\n",
      "memory usage: 2.8+ MB\n"
     ]
    }
   ],
   "source": [
    "# Here we import the dataset and look at the types of the variables.\n",
    "meteor_df = pd.read_csv(\"C:\\\\Users\\\\jacob\\\\Documents\\\\Datasets\\\\Meteorite-Landings.tsv\", sep='\\t', header=0,\n",
    "                            index_col='Name')\n",
    "meteor_df.info()"
   ]
  },
  {
   "cell_type": "code",
   "execution_count": 25,
   "metadata": {},
   "outputs": [
    {
     "data": {
      "text/html": [
       "<div>\n",
       "<style>\n",
       "    .dataframe thead tr:only-child th {\n",
       "        text-align: right;\n",
       "    }\n",
       "\n",
       "    .dataframe thead th {\n",
       "        text-align: left;\n",
       "    }\n",
       "\n",
       "    .dataframe tbody tr th {\n",
       "        vertical-align: top;\n",
       "    }\n",
       "</style>\n",
       "<table border=\"1\" class=\"dataframe\">\n",
       "  <thead>\n",
       "    <tr style=\"text-align: right;\">\n",
       "      <th></th>\n",
       "      <th>ID</th>\n",
       "      <th>NameType</th>\n",
       "      <th>Classification</th>\n",
       "      <th>Mass</th>\n",
       "      <th>Fall</th>\n",
       "      <th>Year</th>\n",
       "      <th>Coordinates</th>\n",
       "    </tr>\n",
       "    <tr>\n",
       "      <th>Name</th>\n",
       "      <th></th>\n",
       "      <th></th>\n",
       "      <th></th>\n",
       "      <th></th>\n",
       "      <th></th>\n",
       "      <th></th>\n",
       "      <th></th>\n",
       "    </tr>\n",
       "  </thead>\n",
       "  <tbody>\n",
       "    <tr>\n",
       "      <th>Aachen</th>\n",
       "      <td>1</td>\n",
       "      <td>Valid</td>\n",
       "      <td>L5</td>\n",
       "      <td>Quantity[21, \"Grams\"]</td>\n",
       "      <td>Fell</td>\n",
       "      <td>DateObject[{1880}, \"Year\", \"Gregorian\", -5.]</td>\n",
       "      <td>GeoPosition[{50.775, 6.08333}]</td>\n",
       "    </tr>\n",
       "    <tr>\n",
       "      <th>Aarhus</th>\n",
       "      <td>2</td>\n",
       "      <td>Valid</td>\n",
       "      <td>H6</td>\n",
       "      <td>Quantity[720, \"Grams\"]</td>\n",
       "      <td>Fell</td>\n",
       "      <td>DateObject[{1951}, \"Year\", \"Gregorian\", -5.]</td>\n",
       "      <td>GeoPosition[{56.18333, 10.23333}]</td>\n",
       "    </tr>\n",
       "    <tr>\n",
       "      <th>Abee</th>\n",
       "      <td>6</td>\n",
       "      <td>Valid</td>\n",
       "      <td>EH4</td>\n",
       "      <td>Quantity[107000, \"Grams\"]</td>\n",
       "      <td>Fell</td>\n",
       "      <td>DateObject[{1952}, \"Year\", \"Gregorian\", -5.]</td>\n",
       "      <td>GeoPosition[{54.21667, -113.}]</td>\n",
       "    </tr>\n",
       "    <tr>\n",
       "      <th>Acapulco</th>\n",
       "      <td>10</td>\n",
       "      <td>Valid</td>\n",
       "      <td>Acapulcoite</td>\n",
       "      <td>Quantity[1914, \"Grams\"]</td>\n",
       "      <td>Fell</td>\n",
       "      <td>DateObject[{1976}, \"Year\", \"Gregorian\", -5.]</td>\n",
       "      <td>GeoPosition[{16.88333, -99.9}]</td>\n",
       "    </tr>\n",
       "    <tr>\n",
       "      <th>Achiras</th>\n",
       "      <td>370</td>\n",
       "      <td>Valid</td>\n",
       "      <td>L6</td>\n",
       "      <td>Quantity[780, \"Grams\"]</td>\n",
       "      <td>Fell</td>\n",
       "      <td>DateObject[{1902}, \"Year\", \"Gregorian\", -5.]</td>\n",
       "      <td>GeoPosition[{-33.16667, -64.95}]</td>\n",
       "    </tr>\n",
       "  </tbody>\n",
       "</table>\n",
       "</div>"
      ],
      "text/plain": [
       "           ID NameType Classification                       Mass  Fall  \\\n",
       "Name                                                                     \n",
       "Aachen      1    Valid             L5      Quantity[21, \"Grams\"]  Fell   \n",
       "Aarhus      2    Valid             H6     Quantity[720, \"Grams\"]  Fell   \n",
       "Abee        6    Valid            EH4  Quantity[107000, \"Grams\"]  Fell   \n",
       "Acapulco   10    Valid    Acapulcoite    Quantity[1914, \"Grams\"]  Fell   \n",
       "Achiras   370    Valid             L6     Quantity[780, \"Grams\"]  Fell   \n",
       "\n",
       "                                                  Year  \\\n",
       "Name                                                     \n",
       "Aachen    DateObject[{1880}, \"Year\", \"Gregorian\", -5.]   \n",
       "Aarhus    DateObject[{1951}, \"Year\", \"Gregorian\", -5.]   \n",
       "Abee      DateObject[{1952}, \"Year\", \"Gregorian\", -5.]   \n",
       "Acapulco  DateObject[{1976}, \"Year\", \"Gregorian\", -5.]   \n",
       "Achiras   DateObject[{1902}, \"Year\", \"Gregorian\", -5.]   \n",
       "\n",
       "                                Coordinates  \n",
       "Name                                         \n",
       "Aachen       GeoPosition[{50.775, 6.08333}]  \n",
       "Aarhus    GeoPosition[{56.18333, 10.23333}]  \n",
       "Abee         GeoPosition[{54.21667, -113.}]  \n",
       "Acapulco     GeoPosition[{16.88333, -99.9}]  \n",
       "Achiras    GeoPosition[{-33.16667, -64.95}]  "
      ]
     },
     "execution_count": 25,
     "metadata": {},
     "output_type": "execute_result"
    }
   ],
   "source": [
    "# We take a look at the first few rows of our dataset\n",
    "meteor_df.head()"
   ]
  },
  {
   "cell_type": "code",
   "execution_count": 26,
   "metadata": {},
   "outputs": [
    {
     "name": "stdout",
     "output_type": "stream",
     "text": [
      "<class 'pandas.core.frame.DataFrame'>\n",
      "Index: 24976 entries, Aarhus to Zulu Queen\n",
      "Data columns (total 7 columns):\n",
      "ID                24976 non-null int64\n",
      "NameType          24976 non-null object\n",
      "Classification    24976 non-null object\n",
      "Mass              24976 non-null object\n",
      "Fall              24976 non-null object\n",
      "Year              24976 non-null object\n",
      "Coordinates       24976 non-null object\n",
      "dtypes: int64(1), object(6)\n",
      "memory usage: 1.5+ MB\n"
     ]
    }
   ],
   "source": [
    "# We drop the observations that don't have information about what year they were found. Note that we have about 300 fewer.\n",
    "# We also restrict ourselves to the years 1900-1999.\n",
    "meteor_df = meteor_df[meteor_df['Year'].str[:14] == 'DateObject[{19']\n",
    "meteor_df.info()"
   ]
  },
  {
   "cell_type": "code",
   "execution_count": 27,
   "metadata": {
    "scrolled": true
   },
   "outputs": [
    {
     "data": {
      "text/html": [
       "<div>\n",
       "<style>\n",
       "    .dataframe thead tr:only-child th {\n",
       "        text-align: right;\n",
       "    }\n",
       "\n",
       "    .dataframe thead th {\n",
       "        text-align: left;\n",
       "    }\n",
       "\n",
       "    .dataframe tbody tr th {\n",
       "        vertical-align: top;\n",
       "    }\n",
       "</style>\n",
       "<table border=\"1\" class=\"dataframe\">\n",
       "  <thead>\n",
       "    <tr style=\"text-align: right;\">\n",
       "      <th></th>\n",
       "      <th>ID</th>\n",
       "      <th>NameType</th>\n",
       "      <th>Classification</th>\n",
       "      <th>Mass</th>\n",
       "      <th>Fall</th>\n",
       "      <th>Year</th>\n",
       "      <th>Coordinates</th>\n",
       "      <th>Year_int</th>\n",
       "    </tr>\n",
       "    <tr>\n",
       "      <th>Name</th>\n",
       "      <th></th>\n",
       "      <th></th>\n",
       "      <th></th>\n",
       "      <th></th>\n",
       "      <th></th>\n",
       "      <th></th>\n",
       "      <th></th>\n",
       "      <th></th>\n",
       "    </tr>\n",
       "  </thead>\n",
       "  <tbody>\n",
       "    <tr>\n",
       "      <th>Aarhus</th>\n",
       "      <td>2</td>\n",
       "      <td>Valid</td>\n",
       "      <td>H6</td>\n",
       "      <td>Quantity[720, \"Grams\"]</td>\n",
       "      <td>Fell</td>\n",
       "      <td>DateObject[{1951}, \"Year\", \"Gregorian\", -5.]</td>\n",
       "      <td>GeoPosition[{56.18333, 10.23333}]</td>\n",
       "      <td>1951</td>\n",
       "    </tr>\n",
       "    <tr>\n",
       "      <th>Abee</th>\n",
       "      <td>6</td>\n",
       "      <td>Valid</td>\n",
       "      <td>EH4</td>\n",
       "      <td>Quantity[107000, \"Grams\"]</td>\n",
       "      <td>Fell</td>\n",
       "      <td>DateObject[{1952}, \"Year\", \"Gregorian\", -5.]</td>\n",
       "      <td>GeoPosition[{54.21667, -113.}]</td>\n",
       "      <td>1952</td>\n",
       "    </tr>\n",
       "    <tr>\n",
       "      <th>Acapulco</th>\n",
       "      <td>10</td>\n",
       "      <td>Valid</td>\n",
       "      <td>Acapulcoite</td>\n",
       "      <td>Quantity[1914, \"Grams\"]</td>\n",
       "      <td>Fell</td>\n",
       "      <td>DateObject[{1976}, \"Year\", \"Gregorian\", -5.]</td>\n",
       "      <td>GeoPosition[{16.88333, -99.9}]</td>\n",
       "      <td>1976</td>\n",
       "    </tr>\n",
       "    <tr>\n",
       "      <th>Achiras</th>\n",
       "      <td>370</td>\n",
       "      <td>Valid</td>\n",
       "      <td>L6</td>\n",
       "      <td>Quantity[780, \"Grams\"]</td>\n",
       "      <td>Fell</td>\n",
       "      <td>DateObject[{1902}, \"Year\", \"Gregorian\", -5.]</td>\n",
       "      <td>GeoPosition[{-33.16667, -64.95}]</td>\n",
       "      <td>1902</td>\n",
       "    </tr>\n",
       "    <tr>\n",
       "      <th>Adhi Kot</th>\n",
       "      <td>379</td>\n",
       "      <td>Valid</td>\n",
       "      <td>EH4</td>\n",
       "      <td>Quantity[4239, \"Grams\"]</td>\n",
       "      <td>Fell</td>\n",
       "      <td>DateObject[{1919}, \"Year\", \"Gregorian\", -5.]</td>\n",
       "      <td>GeoPosition[{32.1, 71.8}]</td>\n",
       "      <td>1919</td>\n",
       "    </tr>\n",
       "  </tbody>\n",
       "</table>\n",
       "</div>"
      ],
      "text/plain": [
       "           ID NameType Classification                       Mass  Fall  \\\n",
       "Name                                                                     \n",
       "Aarhus      2    Valid             H6     Quantity[720, \"Grams\"]  Fell   \n",
       "Abee        6    Valid            EH4  Quantity[107000, \"Grams\"]  Fell   \n",
       "Acapulco   10    Valid    Acapulcoite    Quantity[1914, \"Grams\"]  Fell   \n",
       "Achiras   370    Valid             L6     Quantity[780, \"Grams\"]  Fell   \n",
       "Adhi Kot  379    Valid            EH4    Quantity[4239, \"Grams\"]  Fell   \n",
       "\n",
       "                                                  Year  \\\n",
       "Name                                                     \n",
       "Aarhus    DateObject[{1951}, \"Year\", \"Gregorian\", -5.]   \n",
       "Abee      DateObject[{1952}, \"Year\", \"Gregorian\", -5.]   \n",
       "Acapulco  DateObject[{1976}, \"Year\", \"Gregorian\", -5.]   \n",
       "Achiras   DateObject[{1902}, \"Year\", \"Gregorian\", -5.]   \n",
       "Adhi Kot  DateObject[{1919}, \"Year\", \"Gregorian\", -5.]   \n",
       "\n",
       "                                Coordinates  Year_int  \n",
       "Name                                                   \n",
       "Aarhus    GeoPosition[{56.18333, 10.23333}]      1951  \n",
       "Abee         GeoPosition[{54.21667, -113.}]      1952  \n",
       "Acapulco     GeoPosition[{16.88333, -99.9}]      1976  \n",
       "Achiras    GeoPosition[{-33.16667, -64.95}]      1902  \n",
       "Adhi Kot          GeoPosition[{32.1, 71.8}]      1919  "
      ]
     },
     "execution_count": 27,
     "metadata": {},
     "output_type": "execute_result"
    }
   ],
   "source": [
    "# Now we are ready to extract the year as an integer from  the messy string we have it in.\n",
    "meteor_df['Year_int'] = meteor_df['Year'].str[12:16].astype(int)\n",
    "meteor_df.head()"
   ]
  },
  {
   "cell_type": "code",
   "execution_count": 28,
   "metadata": {},
   "outputs": [],
   "source": [
    "# Ideally I could have done this with a loop, but I'm still trying to figure out very basic things in Python. I hope you\n",
    "# weren't expecting me to know how to do anything before I started this.\n",
    "year1999 = meteor_df[meteor_df['Year_int'] == 1999]\n",
    "year1998 = meteor_df[meteor_df['Year_int'] == 1998]\n",
    "year1997 = meteor_df[meteor_df['Year_int'] == 1997]\n",
    "year1996 = meteor_df[meteor_df['Year_int'] == 1996]\n",
    "year1995 = meteor_df[meteor_df['Year_int'] == 1995]\n",
    "year1994 = meteor_df[meteor_df['Year_int'] == 1994]\n",
    "year1993 = meteor_df[meteor_df['Year_int'] == 1993]\n",
    "year1992 = meteor_df[meteor_df['Year_int'] == 1992]\n",
    "year1991 = meteor_df[meteor_df['Year_int'] == 1991]\n",
    "year1990 = meteor_df[meteor_df['Year_int'] == 1990]\n",
    "year1989 = meteor_df[meteor_df['Year_int'] == 1989]\n",
    "year1988 = meteor_df[meteor_df['Year_int'] == 1988]\n",
    "year1987 = meteor_df[meteor_df['Year_int'] == 1987]\n",
    "year1986 = meteor_df[meteor_df['Year_int'] == 1986]\n",
    "year1985 = meteor_df[meteor_df['Year_int'] == 1985]\n",
    "year1984 = meteor_df[meteor_df['Year_int'] == 1984]\n",
    "year1983 = meteor_df[meteor_df['Year_int'] == 1983]\n",
    "year1982 = meteor_df[meteor_df['Year_int'] == 1982]\n",
    "year1981 = meteor_df[meteor_df['Year_int'] == 1981]\n",
    "year1980 = meteor_df[meteor_df['Year_int'] == 1980]\n",
    "year1979 = meteor_df[meteor_df['Year_int'] == 1979]\n",
    "year1978 = meteor_df[meteor_df['Year_int'] == 1978]\n",
    "year1977 = meteor_df[meteor_df['Year_int'] == 1977]\n",
    "year1976 = meteor_df[meteor_df['Year_int'] == 1976]\n",
    "year1975 = meteor_df[meteor_df['Year_int'] == 1975]\n",
    "year1974 = meteor_df[meteor_df['Year_int'] == 1974]\n",
    "year1973 = meteor_df[meteor_df['Year_int'] == 1973]\n",
    "year1972 = meteor_df[meteor_df['Year_int'] == 1972]\n",
    "year1971 = meteor_df[meteor_df['Year_int'] == 1971]\n",
    "year1970 = meteor_df[meteor_df['Year_int'] == 1970]"
   ]
  },
  {
   "cell_type": "code",
   "execution_count": 29,
   "metadata": {
    "collapsed": true
   },
   "outputs": [],
   "source": [
    "# We make a series consisting of integers from 1970 through 1999. This will be used to make our dataframe later.\n",
    "years = pd.Series(range(1970,2000), name = 'Year')"
   ]
  },
  {
   "cell_type": "code",
   "execution_count": 30,
   "metadata": {},
   "outputs": [],
   "source": [
    "# We make another series, this time with the number of meteors for each year from  1970 to 1999. Again, this will be merged next.\n",
    "counts = pd.Series([len(year1999.index), len(year1998.index), len(year1997.index), len(year1996.index), len(year1997.index),\n",
    "                   len(year1994.index), len(year1993.index), len(year1992.index), len(year1991.index), len(year1990.index),\n",
    "                   len(year1989.index), len(year1988.index), len(year1987.index), len(year1986.index), len(year1985.index),\n",
    "                   len(year1984.index), len(year1983.index), len(year1982.index), len(year1981.index), len(year1980.index),\n",
    "                   len(year1979.index), len(year1978.index), len(year1977.index), len(year1976.index), len(year1975.index),\n",
    "                   len(year1974.index), len(year1973.index), len(year1972.index), len(year1971.index), len(year1970.index)],\n",
    "                  name='Meteor_counts')"
   ]
  },
  {
   "cell_type": "code",
   "execution_count": 31,
   "metadata": {},
   "outputs": [
    {
     "data": {
      "text/html": [
       "<div>\n",
       "<style>\n",
       "    .dataframe thead tr:only-child th {\n",
       "        text-align: right;\n",
       "    }\n",
       "\n",
       "    .dataframe thead th {\n",
       "        text-align: left;\n",
       "    }\n",
       "\n",
       "    .dataframe tbody tr th {\n",
       "        vertical-align: top;\n",
       "    }\n",
       "</style>\n",
       "<table border=\"1\" class=\"dataframe\">\n",
       "  <thead>\n",
       "    <tr style=\"text-align: right;\">\n",
       "      <th></th>\n",
       "      <th>Year</th>\n",
       "      <th>Meteor_counts</th>\n",
       "    </tr>\n",
       "  </thead>\n",
       "  <tbody>\n",
       "    <tr>\n",
       "      <th>0</th>\n",
       "      <td>1970</td>\n",
       "      <td>1691</td>\n",
       "    </tr>\n",
       "    <tr>\n",
       "      <th>1</th>\n",
       "      <td>1971</td>\n",
       "      <td>2697</td>\n",
       "    </tr>\n",
       "    <tr>\n",
       "      <th>2</th>\n",
       "      <td>1972</td>\n",
       "      <td>1696</td>\n",
       "    </tr>\n",
       "    <tr>\n",
       "      <th>3</th>\n",
       "      <td>1973</td>\n",
       "      <td>583</td>\n",
       "    </tr>\n",
       "    <tr>\n",
       "      <th>4</th>\n",
       "      <td>1974</td>\n",
       "      <td>1696</td>\n",
       "    </tr>\n",
       "  </tbody>\n",
       "</table>\n",
       "</div>"
      ],
      "text/plain": [
       "   Year  Meteor_counts\n",
       "0  1970           1691\n",
       "1  1971           2697\n",
       "2  1972           1696\n",
       "3  1973            583\n",
       "4  1974           1696"
      ]
     },
     "execution_count": 31,
     "metadata": {},
     "output_type": "execute_result"
    }
   ],
   "source": [
    "# Now we're ready to merge the series and take a look at our dataframe. It's beautiful.\n",
    "yearly_counts = pd.concat([years, counts], axis=1)\n",
    "yearly_counts.head()"
   ]
  },
  {
   "cell_type": "code",
   "execution_count": 32,
   "metadata": {},
   "outputs": [
    {
     "data": {
      "text/plain": [
       "<matplotlib.axes._subplots.AxesSubplot at 0x20f3d0c73c8>"
      ]
     },
     "execution_count": 32,
     "metadata": {},
     "output_type": "execute_result"
    },
    {
     "data": {
      "image/png": "[encoded data removed]",
      "text/plain": [
       "<matplotlib.figure.Figure at 0x20f2cccd550>"
      ]
     },
     "metadata": {},
     "output_type": "display_data"
    }
   ],
   "source": [
    "# We look at the distribution of meteor landings per year. Very rightly skewed with perhaps one outlier. Not troubling.\n",
    "sns.boxplot(yearly_counts['Meteor_counts'])"
   ]
  },
  {
   "cell_type": "code",
   "execution_count": 33,
   "metadata": {},
   "outputs": [
    {
     "data": {
      "text/plain": [
       "<matplotlib.axes._subplots.AxesSubplot at 0x20f3d0c7128>"
      ]
     },
     "execution_count": 33,
     "metadata": {},
     "output_type": "execute_result"
    },
    {
     "data": {
      "image/png": "[encoded data removed]",
      "text/plain": [
       "<matplotlib.figure.Figure at 0x20f3cad8908>"
      ]
     },
     "metadata": {},
     "output_type": "display_data"
    }
   ],
   "source": [
    "# Here's another way to look at the distribution. Same story.\n",
    "sns.distplot(yearly_counts['Meteor_counts'], bins=30)"
   ]
  },
  {
   "cell_type": "code",
   "execution_count": 34,
   "metadata": {},
   "outputs": [
    {
     "data": {
      "text/plain": [
       "<seaborn.axisgrid.FacetGrid at 0x20f3cbb3550>"
      ]
     },
     "execution_count": 34,
     "metadata": {},
     "output_type": "execute_result"
    },
    {
     "data": {
      "image/png": "[encoded data removed]",
      "text/plain": [
       "<matplotlib.figure.Figure at 0x20f3cbb3160>"
      ]
     },
     "metadata": {},
     "output_type": "display_data"
    }
   ],
   "source": [
    "# Now we can plot meteor landings by year. They're decreasing! That is very comforting.\n",
    "sns.lmplot(x='Year', y='Meteor_counts', data=yearly_counts)"
   ]
  },
  {
   "cell_type": "markdown",
   "metadata": {},
   "source": [
    "### Dataset 3: Average Weather in  Houston, TX\n",
    "\n",
    "Here we look at a dataset of weather variables measured in Houston, TX. This dataset has the recorded temperature and precipitation from 1 July 2014 to 30 June 2015. It was downloaded from FiveThirtyEight. It is very clean and doesn't need to be changed very much for what we want to do. First we look at summary statistics and correlations, which are about as interesting as we would expect them to be. Then we look at how average max temp and average max temp are related by using a few different regression models with scatter plots."
   ]
  },
  {
   "cell_type": "code",
   "execution_count": 35,
   "metadata": {
    "scrolled": true
   },
   "outputs": [
    {
     "name": "stdout",
     "output_type": "stream",
     "text": [
      "<class 'pandas.core.frame.DataFrame'>\n",
      "Index: 365 entries, 2014-7-1 to 2015-6-30\n",
      "Data columns (total 12 columns):\n",
      "actual_mean_temp         365 non-null int64\n",
      "actual_min_temp          365 non-null int64\n",
      "actual_max_temp          365 non-null int64\n",
      "average_min_temp         365 non-null int64\n",
      "average_max_temp         365 non-null int64\n",
      "record_min_temp          365 non-null int64\n",
      "record_max_temp          365 non-null int64\n",
      "record_min_temp_year     365 non-null int64\n",
      "record_max_temp_year     365 non-null int64\n",
      "actual_precipitation     365 non-null float64\n",
      "average_precipitation    365 non-null float64\n",
      "record_precipitation     365 non-null float64\n",
      "dtypes: float64(3), int64(9)\n",
      "memory usage: 37.1+ KB\n"
     ]
    }
   ],
   "source": [
    "# We import the dataset and look at the formats. Ints and floats will be easy to work with.\n",
    "houston_df = pd.read_csv(\"C:\\\\Users\\\\jacob\\Documents\\\\Datasets\\\\KHOUweather.csv\", header=0, index_col='date')\n",
    "houston_df.info()"
   ]
  },
  {
   "cell_type": "code",
   "execution_count": 36,
   "metadata": {},
   "outputs": [
    {
     "data": {
      "text/plain": [
       "Index([], dtype='object')"
      ]
     },
     "execution_count": 36,
     "metadata": {},
     "output_type": "execute_result"
    }
   ],
   "source": [
    "# We show that the dataset isn't missing any observations.\n",
    "houston_df.columns[houston_df.isnull().any()]"
   ]
  },
  {
   "cell_type": "code",
   "execution_count": 37,
   "metadata": {
    "collapsed": true
   },
   "outputs": [],
   "source": [
    "# We delete a few columns we won't be using.\n",
    "cols_delete = ['actual_mean_temp', 'actual_min_temp', 'actual_max_temp', 'actual_precipitation']\n",
    "houston_df = houston_df.drop(labels=cols_delete, axis=1)"
   ]
  },
  {
   "cell_type": "code",
   "execution_count": 38,
   "metadata": {
    "scrolled": true
   },
   "outputs": [
    {
     "data": {
      "text/html": [
       "<div>\n",
       "<style>\n",
       "    .dataframe thead tr:only-child th {\n",
       "        text-align: right;\n",
       "    }\n",
       "\n",
       "    .dataframe thead th {\n",
       "        text-align: left;\n",
       "    }\n",
       "\n",
       "    .dataframe tbody tr th {\n",
       "        vertical-align: top;\n",
       "    }\n",
       "</style>\n",
       "<table border=\"1\" class=\"dataframe\">\n",
       "  <thead>\n",
       "    <tr style=\"text-align: right;\">\n",
       "      <th></th>\n",
       "      <th>average_min_temp</th>\n",
       "      <th>average_max_temp</th>\n",
       "      <th>record_min_temp</th>\n",
       "      <th>record_max_temp</th>\n",
       "      <th>record_min_temp_year</th>\n",
       "      <th>record_max_temp_year</th>\n",
       "      <th>average_precipitation</th>\n",
       "      <th>record_precipitation</th>\n",
       "    </tr>\n",
       "  </thead>\n",
       "  <tbody>\n",
       "    <tr>\n",
       "      <th>count</th>\n",
       "      <td>365.000000</td>\n",
       "      <td>365.000000</td>\n",
       "      <td>365.000000</td>\n",
       "      <td>365.000000</td>\n",
       "      <td>365.000000</td>\n",
       "      <td>365.000000</td>\n",
       "      <td>365.000000</td>\n",
       "      <td>365.000000</td>\n",
       "    </tr>\n",
       "    <tr>\n",
       "      <th>mean</th>\n",
       "      <td>60.084932</td>\n",
       "      <td>79.808219</td>\n",
       "      <td>40.446575</td>\n",
       "      <td>92.523288</td>\n",
       "      <td>1955.219178</td>\n",
       "      <td>1969.545205</td>\n",
       "      <td>0.136356</td>\n",
       "      <td>3.016493</td>\n",
       "    </tr>\n",
       "    <tr>\n",
       "      <th>std</th>\n",
       "      <td>11.694646</td>\n",
       "      <td>11.315235</td>\n",
       "      <td>17.372155</td>\n",
       "      <td>8.149876</td>\n",
       "      <td>38.149520</td>\n",
       "      <td>35.903966</td>\n",
       "      <td>0.031842</td>\n",
       "      <td>1.491180</td>\n",
       "    </tr>\n",
       "    <tr>\n",
       "      <th>min</th>\n",
       "      <td>43.000000</td>\n",
       "      <td>62.000000</td>\n",
       "      <td>5.000000</td>\n",
       "      <td>78.000000</td>\n",
       "      <td>1889.000000</td>\n",
       "      <td>1890.000000</td>\n",
       "      <td>0.090000</td>\n",
       "      <td>0.750000</td>\n",
       "    </tr>\n",
       "    <tr>\n",
       "      <th>25%</th>\n",
       "      <td>49.000000</td>\n",
       "      <td>69.000000</td>\n",
       "      <td>25.000000</td>\n",
       "      <td>85.000000</td>\n",
       "      <td>1912.000000</td>\n",
       "      <td>1947.000000</td>\n",
       "      <td>0.110000</td>\n",
       "      <td>2.000000</td>\n",
       "    </tr>\n",
       "    <tr>\n",
       "      <th>50%</th>\n",
       "      <td>60.000000</td>\n",
       "      <td>81.000000</td>\n",
       "      <td>40.000000</td>\n",
       "      <td>92.000000</td>\n",
       "      <td>1973.000000</td>\n",
       "      <td>1980.000000</td>\n",
       "      <td>0.130000</td>\n",
       "      <td>2.700000</td>\n",
       "    </tr>\n",
       "    <tr>\n",
       "      <th>75%</th>\n",
       "      <td>72.000000</td>\n",
       "      <td>91.000000</td>\n",
       "      <td>57.000000</td>\n",
       "      <td>100.000000</td>\n",
       "      <td>1985.000000</td>\n",
       "      <td>1999.000000</td>\n",
       "      <td>0.160000</td>\n",
       "      <td>3.570000</td>\n",
       "    </tr>\n",
       "    <tr>\n",
       "      <th>max</th>\n",
       "      <td>75.000000</td>\n",
       "      <td>95.000000</td>\n",
       "      <td>69.000000</td>\n",
       "      <td>109.000000</td>\n",
       "      <td>2014.000000</td>\n",
       "      <td>2013.000000</td>\n",
       "      <td>0.220000</td>\n",
       "      <td>10.340000</td>\n",
       "    </tr>\n",
       "  </tbody>\n",
       "</table>\n",
       "</div>"
      ],
      "text/plain": [
       "       average_min_temp  average_max_temp  record_min_temp  record_max_temp  \\\n",
       "count        365.000000        365.000000       365.000000       365.000000   \n",
       "mean          60.084932         79.808219        40.446575        92.523288   \n",
       "std           11.694646         11.315235        17.372155         8.149876   \n",
       "min           43.000000         62.000000         5.000000        78.000000   \n",
       "25%           49.000000         69.000000        25.000000        85.000000   \n",
       "50%           60.000000         81.000000        40.000000        92.000000   \n",
       "75%           72.000000         91.000000        57.000000       100.000000   \n",
       "max           75.000000         95.000000        69.000000       109.000000   \n",
       "\n",
       "       record_min_temp_year  record_max_temp_year  average_precipitation  \\\n",
       "count            365.000000            365.000000             365.000000   \n",
       "mean            1955.219178           1969.545205               0.136356   \n",
       "std               38.149520             35.903966               0.031842   \n",
       "min             1889.000000           1890.000000               0.090000   \n",
       "25%             1912.000000           1947.000000               0.110000   \n",
       "50%             1973.000000           1980.000000               0.130000   \n",
       "75%             1985.000000           1999.000000               0.160000   \n",
       "max             2014.000000           2013.000000               0.220000   \n",
       "\n",
       "       record_precipitation  \n",
       "count            365.000000  \n",
       "mean               3.016493  \n",
       "std                1.491180  \n",
       "min                0.750000  \n",
       "25%                2.000000  \n",
       "50%                2.700000  \n",
       "75%                3.570000  \n",
       "max               10.340000  "
      ]
     },
     "execution_count": 38,
     "metadata": {},
     "output_type": "execute_result"
    }
   ],
   "source": [
    "# The most interesting part of this to me is that the record_min_temp_year is the average record min temp year is 1955 and the \n",
    "# average max temp year is 1969. That is pretty much what we're going to show later in our poor man's global warming test.\n",
    "houston_df.describe()"
   ]
  },
  {
   "cell_type": "code",
   "execution_count": 39,
   "metadata": {},
   "outputs": [
    {
     "data": {
      "text/html": [
       "<div>\n",
       "<style>\n",
       "    .dataframe thead tr:only-child th {\n",
       "        text-align: right;\n",
       "    }\n",
       "\n",
       "    .dataframe thead th {\n",
       "        text-align: left;\n",
       "    }\n",
       "\n",
       "    .dataframe tbody tr th {\n",
       "        vertical-align: top;\n",
       "    }\n",
       "</style>\n",
       "<table border=\"1\" class=\"dataframe\">\n",
       "  <thead>\n",
       "    <tr style=\"text-align: right;\">\n",
       "      <th></th>\n",
       "      <th>average_min_temp</th>\n",
       "      <th>average_max_temp</th>\n",
       "      <th>record_min_temp</th>\n",
       "      <th>record_max_temp</th>\n",
       "      <th>record_min_temp_year</th>\n",
       "      <th>record_max_temp_year</th>\n",
       "      <th>average_precipitation</th>\n",
       "      <th>record_precipitation</th>\n",
       "    </tr>\n",
       "  </thead>\n",
       "  <tbody>\n",
       "    <tr>\n",
       "      <th>average_min_temp</th>\n",
       "      <td>1.000000</td>\n",
       "      <td>0.997149</td>\n",
       "      <td>0.978154</td>\n",
       "      <td>0.964430</td>\n",
       "      <td>-0.010609</td>\n",
       "      <td>0.020199</td>\n",
       "      <td>0.411030</td>\n",
       "      <td>0.213400</td>\n",
       "    </tr>\n",
       "    <tr>\n",
       "      <th>average_max_temp</th>\n",
       "      <td>0.997149</td>\n",
       "      <td>1.000000</td>\n",
       "      <td>0.974365</td>\n",
       "      <td>0.965007</td>\n",
       "      <td>-0.004427</td>\n",
       "      <td>0.016460</td>\n",
       "      <td>0.398292</td>\n",
       "      <td>0.215895</td>\n",
       "    </tr>\n",
       "    <tr>\n",
       "      <th>record_min_temp</th>\n",
       "      <td>0.978154</td>\n",
       "      <td>0.974365</td>\n",
       "      <td>1.000000</td>\n",
       "      <td>0.946954</td>\n",
       "      <td>0.012988</td>\n",
       "      <td>0.035224</td>\n",
       "      <td>0.351002</td>\n",
       "      <td>0.200197</td>\n",
       "    </tr>\n",
       "    <tr>\n",
       "      <th>record_max_temp</th>\n",
       "      <td>0.964430</td>\n",
       "      <td>0.965007</td>\n",
       "      <td>0.946954</td>\n",
       "      <td>1.000000</td>\n",
       "      <td>-0.014366</td>\n",
       "      <td>0.020306</td>\n",
       "      <td>0.358629</td>\n",
       "      <td>0.192600</td>\n",
       "    </tr>\n",
       "    <tr>\n",
       "      <th>record_min_temp_year</th>\n",
       "      <td>-0.010609</td>\n",
       "      <td>-0.004427</td>\n",
       "      <td>0.012988</td>\n",
       "      <td>-0.014366</td>\n",
       "      <td>1.000000</td>\n",
       "      <td>-0.112259</td>\n",
       "      <td>-0.027158</td>\n",
       "      <td>-0.046671</td>\n",
       "    </tr>\n",
       "    <tr>\n",
       "      <th>record_max_temp_year</th>\n",
       "      <td>0.020199</td>\n",
       "      <td>0.016460</td>\n",
       "      <td>0.035224</td>\n",
       "      <td>0.020306</td>\n",
       "      <td>-0.112259</td>\n",
       "      <td>1.000000</td>\n",
       "      <td>0.022096</td>\n",
       "      <td>0.022817</td>\n",
       "    </tr>\n",
       "    <tr>\n",
       "      <th>average_precipitation</th>\n",
       "      <td>0.411030</td>\n",
       "      <td>0.398292</td>\n",
       "      <td>0.351002</td>\n",
       "      <td>0.358629</td>\n",
       "      <td>-0.027158</td>\n",
       "      <td>0.022096</td>\n",
       "      <td>1.000000</td>\n",
       "      <td>0.285359</td>\n",
       "    </tr>\n",
       "    <tr>\n",
       "      <th>record_precipitation</th>\n",
       "      <td>0.213400</td>\n",
       "      <td>0.215895</td>\n",
       "      <td>0.200197</td>\n",
       "      <td>0.192600</td>\n",
       "      <td>-0.046671</td>\n",
       "      <td>0.022817</td>\n",
       "      <td>0.285359</td>\n",
       "      <td>1.000000</td>\n",
       "    </tr>\n",
       "  </tbody>\n",
       "</table>\n",
       "</div>"
      ],
      "text/plain": [
       "                       average_min_temp  average_max_temp  record_min_temp  \\\n",
       "average_min_temp               1.000000          0.997149         0.978154   \n",
       "average_max_temp               0.997149          1.000000         0.974365   \n",
       "record_min_temp                0.978154          0.974365         1.000000   \n",
       "record_max_temp                0.964430          0.965007         0.946954   \n",
       "record_min_temp_year          -0.010609         -0.004427         0.012988   \n",
       "record_max_temp_year           0.020199          0.016460         0.035224   \n",
       "average_precipitation          0.411030          0.398292         0.351002   \n",
       "record_precipitation           0.213400          0.215895         0.200197   \n",
       "\n",
       "                       record_max_temp  record_min_temp_year  \\\n",
       "average_min_temp              0.964430             -0.010609   \n",
       "average_max_temp              0.965007             -0.004427   \n",
       "record_min_temp               0.946954              0.012988   \n",
       "record_max_temp               1.000000             -0.014366   \n",
       "record_min_temp_year         -0.014366              1.000000   \n",
       "record_max_temp_year          0.020306             -0.112259   \n",
       "average_precipitation         0.358629             -0.027158   \n",
       "record_precipitation          0.192600             -0.046671   \n",
       "\n",
       "                       record_max_temp_year  average_precipitation  \\\n",
       "average_min_temp                   0.020199               0.411030   \n",
       "average_max_temp                   0.016460               0.398292   \n",
       "record_min_temp                    0.035224               0.351002   \n",
       "record_max_temp                    0.020306               0.358629   \n",
       "record_min_temp_year              -0.112259              -0.027158   \n",
       "record_max_temp_year               1.000000               0.022096   \n",
       "average_precipitation              0.022096               1.000000   \n",
       "record_precipitation               0.022817               0.285359   \n",
       "\n",
       "                       record_precipitation  \n",
       "average_min_temp                   0.213400  \n",
       "average_max_temp                   0.215895  \n",
       "record_min_temp                    0.200197  \n",
       "record_max_temp                    0.192600  \n",
       "record_min_temp_year              -0.046671  \n",
       "record_max_temp_year               0.022817  \n",
       "average_precipitation              0.285359  \n",
       "record_precipitation               1.000000  "
      ]
     },
     "execution_count": 39,
     "metadata": {},
     "output_type": "execute_result"
    }
   ],
   "source": [
    "# The interesting thing here is that the record years are negatively correlated with many of the other variables. I don't really\n",
    "# know why that is the case. It's hard for me to think about how they arer related.\n",
    "houston_df.corr()"
   ]
  },
  {
   "cell_type": "code",
   "execution_count": 40,
   "metadata": {},
   "outputs": [
    {
     "data": {
      "text/plain": [
       "<seaborn.axisgrid.FacetGrid at 0x20f3cc49470>"
      ]
     },
     "execution_count": 40,
     "metadata": {},
     "output_type": "execute_result"
    },
    {
     "data": {
      "image/png": "[encoded data removed]",
      "text/plain": [
       "<matplotlib.figure.Figure at 0x20f3cc492e8>"
      ]
     },
     "metadata": {},
     "output_type": "display_data"
    }
   ],
   "source": [
    "# Here we plot average max temp against average precipitation with a simple linear regression. The line suggests precipitation\n",
    "# is correlated with higher temperatures.\n",
    "sns.lmplot(x='average_max_temp', y='average_precipitation', data=houston_df, order=1)"
   ]
  },
  {
   "cell_type": "code",
   "execution_count": 41,
   "metadata": {},
   "outputs": [
    {
     "data": {
      "text/plain": [
       "<seaborn.axisgrid.FacetGrid at 0x20f3cc66048>"
      ]
     },
     "execution_count": 41,
     "metadata": {},
     "output_type": "execute_result"
    },
    {
     "data": {
      "image/png": "[encoded data removed]",
      "text/plain": [
       "<matplotlib.figure.Figure at 0x20f3cc66c50>"
      ]
     },
     "metadata": {},
     "output_type": "display_data"
    }
   ],
   "source": [
    "# Here we plot the same thing, but we allow our function to take on a quadratic form. Now there is a certain average max\n",
    "# temperature associated with the highest average precipitation, somewhere around 85 degress F.\n",
    "sns.lmplot(x='average_max_temp', y='average_precipitation', data=houston_df, order=2)"
   ]
  },
  {
   "cell_type": "code",
   "execution_count": 42,
   "metadata": {},
   "outputs": [
    {
     "data": {
      "text/plain": [
       "<seaborn.axisgrid.FacetGrid at 0x20f3cc1c5c0>"
      ]
     },
     "execution_count": 42,
     "metadata": {},
     "output_type": "execute_result"
    },
    {
     "data": {
      "image/png": "[encoded data removed]",
      "text/plain": [
       "<matplotlib.figure.Figure at 0x20f3ccb68d0>"
      ]
     },
     "metadata": {},
     "output_type": "display_data"
    }
   ],
   "source": [
    "# Interestingly, allowing the curve to take on cubic form doesn't change the \n",
    "sns.lmplot(x='average_max_temp', y='average_precipitation', data=houston_df, order=3)"
   ]
  },
  {
   "cell_type": "code",
   "execution_count": 43,
   "metadata": {
    "scrolled": true
   },
   "outputs": [
    {
     "data": {
      "text/plain": [
       "<seaborn.axisgrid.FacetGrid at 0x20f3cd39a90>"
      ]
     },
     "execution_count": 43,
     "metadata": {},
     "output_type": "execute_result"
    },
    {
     "data": {
      "image/png": "[encoded data removed]",
      "text/plain": [
       "<matplotlib.figure.Figure at 0x20f3cd39f98>"
      ]
     },
     "metadata": {},
     "output_type": "display_data"
    }
   ],
   "source": [
    "# Rather than increasing the orders ad nauseam, we fit the data with the nonparametric lowess model. Notice that virtually\n",
    "# nothing has changed since the quadratic curve even though we're allowing many more functional forms. I think that's \n",
    "# interesting.\n",
    "sns.lmplot(x='average_max_temp', y='average_precipitation', data=houston_df, lowess=True)"
   ]
  },
  {
   "cell_type": "markdown",
   "metadata": {},
   "source": [
    "## THE END"
   ]
  }
 ],
 "metadata": {
  "kernelspec": {
   "display_name": "Python 3",
   "language": "python",
   "name": "python3"
  },
  "language_info": {
   "codemirror_mode": {
    "name": "ipython",
    "version": 3
   },
   "file_extension": ".py",
   "mimetype": "text/x-python",
   "name": "python",
   "nbconvert_exporter": "python",
   "pygments_lexer": "ipython3",
   "version": "3.6.3"
  }
 },
 "nbformat": 4,
 "nbformat_minor": 2
}
