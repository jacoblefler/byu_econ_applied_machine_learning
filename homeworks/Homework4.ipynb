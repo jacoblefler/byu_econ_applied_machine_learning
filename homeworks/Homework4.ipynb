{
 "cells": [
  {
   "cell_type": "markdown",
   "metadata": {},
   "source": [
    "# Homework 2: Titanic Machine Learning from Disaster"
   ]
  },
  {
   "cell_type": "markdown",
   "metadata": {},
   "source": [
    "As described on the Kaggle website, the purpose of this project is to create a model that can accurately predict which passengers of the Titanic survived and which did not. To train and test our models, we have several variables that describe each passenger. These include the passenger's class aboard the ship, name, sex, age, number of siblings and spouses onboard, number of parents or children onboard, type of ticket, price of ticket, name of cabin, and port from which embarked.\n",
    "\n",
    "We will evaluate our models based on several metrics, including accuracy, precision, recall, F1, and area under the ROC curve. We start by preparing our dataset as well as visualizing its content. We then train and evaluate several models."
   ]
  },
  {
   "cell_type": "markdown",
   "metadata": {},
   "source": [
    "Import Libraries"
   ]
  },
  {
   "cell_type": "code",
   "execution_count": 1,
   "metadata": {
    "collapsed": true
   },
   "outputs": [],
   "source": [
    "import pandas as pd\n",
    "import numpy as np\n",
    "import seaborn as sns\n",
    "import matplotlib.pyplot as plt\n",
    "from scipy.stats import skew\n",
    "from sklearn.linear_model import LogisticRegression\n",
    "from sklearn.svm import SVC, LinearSVC\n",
    "from sklearn.ensemble import RandomForestClassifier\n",
    "from sklearn.neighbors import KNeighborsClassifier\n",
    "from sklearn.naive_bayes import GaussianNB\n",
    "from sklearn.model_selection import GridSearchCV\n",
    "%matplotlib inline"
   ]
  },
  {
   "cell_type": "code",
   "execution_count": 2,
   "metadata": {
    "collapsed": true
   },
   "outputs": [],
   "source": [
    "# We hide warnings to keep things pretty\n",
    "import warnings\n",
    "def ignore_warn(*args, **kwargs):\n",
    "    pass\n",
    "warnings.warn = ignore_warn"
   ]
  },
  {
   "cell_type": "markdown",
   "metadata": {},
   "source": [
    "Import Data"
   ]
  },
  {
   "cell_type": "code",
   "execution_count": 41,
   "metadata": {},
   "outputs": [
    {
     "data": {
      "text/html": [
       "<div>\n",
       "<style>\n",
       "    .dataframe thead tr:only-child th {\n",
       "        text-align: right;\n",
       "    }\n",
       "\n",
       "    .dataframe thead th {\n",
       "        text-align: left;\n",
       "    }\n",
       "\n",
       "    .dataframe tbody tr th {\n",
       "        vertical-align: top;\n",
       "    }\n",
       "</style>\n",
       "<table border=\"1\" class=\"dataframe\">\n",
       "  <thead>\n",
       "    <tr style=\"text-align: right;\">\n",
       "      <th></th>\n",
       "      <th>PassengerId</th>\n",
       "      <th>Survived</th>\n",
       "      <th>Pclass</th>\n",
       "      <th>Name</th>\n",
       "      <th>Sex</th>\n",
       "      <th>Age</th>\n",
       "      <th>SibSp</th>\n",
       "      <th>Parch</th>\n",
       "      <th>Ticket</th>\n",
       "      <th>Fare</th>\n",
       "      <th>Cabin</th>\n",
       "      <th>Embarked</th>\n",
       "    </tr>\n",
       "  </thead>\n",
       "  <tbody>\n",
       "    <tr>\n",
       "      <th>0</th>\n",
       "      <td>1</td>\n",
       "      <td>0</td>\n",
       "      <td>3</td>\n",
       "      <td>Braund, Mr. Owen Harris</td>\n",
       "      <td>male</td>\n",
       "      <td>22.0</td>\n",
       "      <td>1</td>\n",
       "      <td>0</td>\n",
       "      <td>A/5 21171</td>\n",
       "      <td>7.2500</td>\n",
       "      <td>NaN</td>\n",
       "      <td>S</td>\n",
       "    </tr>\n",
       "    <tr>\n",
       "      <th>1</th>\n",
       "      <td>2</td>\n",
       "      <td>1</td>\n",
       "      <td>1</td>\n",
       "      <td>Cumings, Mrs. John Bradley (Florence Briggs Th...</td>\n",
       "      <td>female</td>\n",
       "      <td>38.0</td>\n",
       "      <td>1</td>\n",
       "      <td>0</td>\n",
       "      <td>PC 17599</td>\n",
       "      <td>71.2833</td>\n",
       "      <td>C85</td>\n",
       "      <td>C</td>\n",
       "    </tr>\n",
       "    <tr>\n",
       "      <th>2</th>\n",
       "      <td>3</td>\n",
       "      <td>1</td>\n",
       "      <td>3</td>\n",
       "      <td>Heikkinen, Miss. Laina</td>\n",
       "      <td>female</td>\n",
       "      <td>26.0</td>\n",
       "      <td>0</td>\n",
       "      <td>0</td>\n",
       "      <td>STON/O2. 3101282</td>\n",
       "      <td>7.9250</td>\n",
       "      <td>NaN</td>\n",
       "      <td>S</td>\n",
       "    </tr>\n",
       "    <tr>\n",
       "      <th>3</th>\n",
       "      <td>4</td>\n",
       "      <td>1</td>\n",
       "      <td>1</td>\n",
       "      <td>Futrelle, Mrs. Jacques Heath (Lily May Peel)</td>\n",
       "      <td>female</td>\n",
       "      <td>35.0</td>\n",
       "      <td>1</td>\n",
       "      <td>0</td>\n",
       "      <td>113803</td>\n",
       "      <td>53.1000</td>\n",
       "      <td>C123</td>\n",
       "      <td>S</td>\n",
       "    </tr>\n",
       "    <tr>\n",
       "      <th>4</th>\n",
       "      <td>5</td>\n",
       "      <td>0</td>\n",
       "      <td>3</td>\n",
       "      <td>Allen, Mr. William Henry</td>\n",
       "      <td>male</td>\n",
       "      <td>35.0</td>\n",
       "      <td>0</td>\n",
       "      <td>0</td>\n",
       "      <td>373450</td>\n",
       "      <td>8.0500</td>\n",
       "      <td>NaN</td>\n",
       "      <td>S</td>\n",
       "    </tr>\n",
       "  </tbody>\n",
       "</table>\n",
       "</div>"
      ],
      "text/plain": [
       "   PassengerId  Survived  Pclass  \\\n",
       "0            1         0       3   \n",
       "1            2         1       1   \n",
       "2            3         1       3   \n",
       "3            4         1       1   \n",
       "4            5         0       3   \n",
       "\n",
       "                                                Name     Sex   Age  SibSp  \\\n",
       "0                            Braund, Mr. Owen Harris    male  22.0      1   \n",
       "1  Cumings, Mrs. John Bradley (Florence Briggs Th...  female  38.0      1   \n",
       "2                             Heikkinen, Miss. Laina  female  26.0      0   \n",
       "3       Futrelle, Mrs. Jacques Heath (Lily May Peel)  female  35.0      1   \n",
       "4                           Allen, Mr. William Henry    male  35.0      0   \n",
       "\n",
       "   Parch            Ticket     Fare Cabin Embarked  \n",
       "0      0         A/5 21171   7.2500   NaN        S  \n",
       "1      0          PC 17599  71.2833   C85        C  \n",
       "2      0  STON/O2. 3101282   7.9250   NaN        S  \n",
       "3      0            113803  53.1000  C123        S  \n",
       "4      0            373450   8.0500   NaN        S  "
      ]
     },
     "execution_count": 41,
     "metadata": {},
     "output_type": "execute_result"
    }
   ],
   "source": [
    "train_df = pd.read_csv(\"C:\\\\Users\\\\jacob\\\\Documents\\\\Datasets\\\\Homework4\\\\train.csv\", header='infer')\n",
    "test_df = pd.read_csv(\"C:\\\\Users\\\\jacob\\\\Documents\\\\Datasets\\\\Homework4\\\\test.csv\", header='infer')\n",
    "train_df.head()"
   ]
  },
  {
   "cell_type": "markdown",
   "metadata": {},
   "source": [
    "Now we look at which variables have missing values. It looks like Age and Cabin have the most missing values. For the missing Embarked values in the Train dataset, we'll just fill in with 'S' which is the most common value. Since only two are missing, this shouldn't cause any problems. For the missing Fare in the Test datset, we fill in with the median Fare value of the Train datset."
   ]
  },
  {
   "cell_type": "code",
   "execution_count": 4,
   "metadata": {},
   "outputs": [
    {
     "data": {
      "text/plain": [
       "PassengerId      0\n",
       "Survived         0\n",
       "Pclass           0\n",
       "Name             0\n",
       "Sex              0\n",
       "Age            177\n",
       "SibSp            0\n",
       "Parch            0\n",
       "Ticket           0\n",
       "Fare             0\n",
       "Cabin          687\n",
       "Embarked         2\n",
       "dtype: int64"
      ]
     },
     "execution_count": 4,
     "metadata": {},
     "output_type": "execute_result"
    }
   ],
   "source": [
    "train_df.isnull().sum()"
   ]
  },
  {
   "cell_type": "code",
   "execution_count": 5,
   "metadata": {
    "collapsed": true
   },
   "outputs": [],
   "source": [
    "train_df[\"Embarked\"] = train_df[\"Embarked\"].fillna(\"S\")"
   ]
  },
  {
   "cell_type": "code",
   "execution_count": 6,
   "metadata": {
    "scrolled": true
   },
   "outputs": [
    {
     "data": {
      "text/plain": [
       "PassengerId      0\n",
       "Pclass           0\n",
       "Name             0\n",
       "Sex              0\n",
       "Age             86\n",
       "SibSp            0\n",
       "Parch            0\n",
       "Ticket           0\n",
       "Fare             1\n",
       "Cabin          327\n",
       "Embarked         0\n",
       "dtype: int64"
      ]
     },
     "execution_count": 6,
     "metadata": {},
     "output_type": "execute_result"
    }
   ],
   "source": [
    "test_df.isnull().sum()"
   ]
  },
  {
   "cell_type": "code",
   "execution_count": 7,
   "metadata": {
    "collapsed": true
   },
   "outputs": [],
   "source": [
    "test_df[\"Fare\"].fillna(train_df[\"Fare\"].median(), inplace=True)"
   ]
  },
  {
   "cell_type": "markdown",
   "metadata": {},
   "source": [
    "We do some data visualization that will guide how we clean the data. This first graph shows that survival varies greatly by Pclass. We might want to consider including Pclass in our models, but only if we want our models to be any good."
   ]
  },
  {
   "cell_type": "code",
   "execution_count": 8,
   "metadata": {},
   "outputs": [
    {
     "data": {
      "image/png": "[encoded data removed]",
      "text/plain": [
       "<matplotlib.figure.Figure at 0x24335364518>"
      ]
     },
     "metadata": {},
     "output_type": "display_data"
    }
   ],
   "source": [
    "sns.factorplot('Pclass','Survived', order=[1,2,3], data=train_df,size=4)\n",
    "plt.title(\"Survival by Pclass\")\n",
    "plt.show()"
   ]
  },
  {
   "cell_type": "markdown",
   "metadata": {},
   "source": [
    "Similarly, Gender also has huge predictive power, something we'll be sure to keep in mind."
   ]
  },
  {
   "cell_type": "code",
   "execution_count": 9,
   "metadata": {},
   "outputs": [
    {
     "data": {
      "image/png": "[encoded data removed]",
      "text/plain": [
       "<matplotlib.figure.Figure at 0x243393eb278>"
      ]
     },
     "metadata": {},
     "output_type": "display_data"
    }
   ],
   "source": [
    "sns.factorplot('Sex','Survived', data=train_df,size=4)\n",
    "plt.title(\"Survival by Sex\")\n",
    "plt.show()"
   ]
  },
  {
   "cell_type": "markdown",
   "metadata": {},
   "source": [
    "In addition to looking at the average survival across different groups, it's also good to keep in mind how many femal vs male passengers there were. Here it's maybe even clearer how bad it was to be male."
   ]
  },
  {
   "cell_type": "code",
   "execution_count": 10,
   "metadata": {},
   "outputs": [
    {
     "data": {
      "image/png": "[encoded data removed]",
      "text/plain": [
       "<matplotlib.figure.Figure at 0x243353643c8>"
      ]
     },
     "metadata": {},
     "output_type": "display_data"
    }
   ],
   "source": [
    "fig, (axis1,axis2) = plt.subplots(1,2,figsize=(10,5))\n",
    "sns.countplot(x='Sex', data=train_df, ax=axis1)\n",
    "sns.countplot(x='Survived', hue=\"Sex\", data=train_df, order=[1,0], ax=axis2)\n",
    "plt.show()"
   ]
  },
  {
   "cell_type": "markdown",
   "metadata": {},
   "source": [
    "Which port the passenger embarked from is also very important, with the odds of surviving being significantly higher if the passenger departed from \"C\"."
   ]
  },
  {
   "cell_type": "code",
   "execution_count": 11,
   "metadata": {
    "scrolled": true
   },
   "outputs": [
    {
     "data": {
      "image/png": "[encoded data removed]",
      "text/plain": [
       "<matplotlib.figure.Figure at 0x243391dfcc0>"
      ]
     },
     "metadata": {},
     "output_type": "display_data"
    }
   ],
   "source": [
    "sns.factorplot('Embarked','Survived', data=train_df,size=4)\n",
    "plt.title(\"Survival by Embarked\")\n",
    "plt.show()"
   ]
  },
  {
   "cell_type": "code",
   "execution_count": 12,
   "metadata": {},
   "outputs": [
    {
     "data": {
      "image/png": "[encoded data removed]",
      "text/plain": [
       "<matplotlib.figure.Figure at 0x24339379ac8>"
      ]
     },
     "metadata": {},
     "output_type": "display_data"
    }
   ],
   "source": [
    "fig, (axis1,axis2) = plt.subplots(1,2,figsize=(10,5))\n",
    "sns.countplot(x='Embarked', data=train_df, ax=axis1)\n",
    "sns.countplot(x='Survived', hue=\"Embarked\", data=train_df, order=[1,0], ax=axis2)\n",
    "plt.show()"
   ]
  },
  {
   "cell_type": "markdown",
   "metadata": {},
   "source": [
    "Next we look at how survival varies by the number of Parents/Children and Siblings/Spouses the passenger had onboard. Somewhat unexpectedly, having alot of family members on board makes one much less likely to survive."
   ]
  },
  {
   "cell_type": "code",
   "execution_count": 13,
   "metadata": {},
   "outputs": [
    {
     "data": {
      "image/png": "[encoded data removed]",
      "text/plain": [
       "<matplotlib.figure.Figure at 0x24339367438>"
      ]
     },
     "metadata": {},
     "output_type": "display_data"
    }
   ],
   "source": [
    "sns.factorplot('Parch','Survived', data=train_df,size=4)\n",
    "plt.title(\"Survival by Number of Parents/Children\")\n",
    "plt.show()"
   ]
  },
  {
   "cell_type": "code",
   "execution_count": 14,
   "metadata": {},
   "outputs": [
    {
     "data": {
      "image/png": "[encoded data removed]",
      "text/plain": [
       "<matplotlib.figure.Figure at 0x2433998a4a8>"
      ]
     },
     "metadata": {},
     "output_type": "display_data"
    }
   ],
   "source": [
    "sns.factorplot('SibSp','Survived', data=train_df,size=4)\n",
    "plt.title(\"Survival by Number of Siblings/Spouses\")\n",
    "plt.show()"
   ]
  },
  {
   "cell_type": "markdown",
   "metadata": {},
   "source": [
    "Inspired by how Omar El Gabry dealt with the issue of missing values for age, we follow his general setup with some modifications. The basic idea is to fill in the missing age values with random ages within one standard deviation (to each side) of the average age. Of course, we only want to use the averages and standard deviations from our train dataset. After generating these age values, we compare the distributions before and after to make sure we didn't do anything crazy. The distriutions look very similar, which is comforting."
   ]
  },
  {
   "cell_type": "code",
   "execution_count": 15,
   "metadata": {},
   "outputs": [
    {
     "data": {
      "image/png": "[encoded data removed]",
      "text/plain": [
       "<matplotlib.figure.Figure at 0x24339b4ac50>"
      ]
     },
     "metadata": {},
     "output_type": "display_data"
    }
   ],
   "source": [
    "\n",
    "# We get average, std, and number of NaN values in train_df as well as NaN values in test_df\n",
    "average_age_train   = train_df[\"Age\"].mean()\n",
    "std_age_train       = train_df[\"Age\"].std()\n",
    "count_nan_age_train = train_df[\"Age\"].isnull().sum()\n",
    "count_nan_age_test = test_df[\"Age\"].isnull().sum()\n",
    "\n",
    "# We generate random numbers between (mean - std) & (mean + std) that we will use to fill in missing values for age.\n",
    "# Note that we generate two vectors (one for each df) with the only difference being the size.\n",
    "rand_1 = np.random.randint(average_age_train - std_age_train, average_age_train + std_age_train, size = count_nan_age_train)\n",
    "rand_2 = np.random.randint(average_age_train - std_age_train, average_age_train + std_age_train, size = count_nan_age_test)\n",
    "\n",
    "#Create a plot to compare the age distribution before and after generating our random ages and converting to ints.\n",
    "fig, (axis1,axis2) = plt.subplots(1,2,figsize=(15,4))\n",
    "axis1.set_title('Original Age values - Training Dataset')\n",
    "axis2.set_title('New Age values - Training Datasest')\n",
    "\n",
    "# plot original Age values\n",
    "train_df['Age'].dropna().astype(int).hist(bins=70, ax=axis1)\n",
    "\n",
    "# fill NaN values in Age column with random values generated\n",
    "train_df[\"Age\"][np.isnan(train_df[\"Age\"])] = rand_1\n",
    "test_df[\"Age\"][np.isnan(test_df[\"Age\"])] = rand_2\n",
    "\n",
    "# convert from float to int\n",
    "train_df['Age'] = train_df['Age'].astype(int)\n",
    "test_df['Age'] = test_df['Age'].astype(int)\n",
    "\n",
    "# plot new Age Values\n",
    "train_df['Age'].hist(bins=70, ax=axis2)\n",
    "plt.show()"
   ]
  },
  {
   "cell_type": "markdown",
   "metadata": {},
   "source": [
    "This figure helps us see that children were much more likely to survive than those who were older."
   ]
  },
  {
   "cell_type": "code",
   "execution_count": 16,
   "metadata": {
    "scrolled": true
   },
   "outputs": [
    {
     "data": {
      "image/png": "[encoded data removed]",
      "text/plain": [
       "<matplotlib.figure.Figure at 0x24339a17a90>"
      ]
     },
     "metadata": {},
     "output_type": "display_data"
    }
   ],
   "source": [
    "fig, axis1 = plt.subplots(1,1,figsize=(18,4))\n",
    "average_age = train_df[[\"Age\", \"Survived\"]].groupby(['Age'],as_index=False).mean()\n",
    "sns.barplot(x='Age', y='Survived', data=average_age)\n",
    "year = pd.Series(train_df['Age'])\n",
    "plt.title(\"Survival by Age\")\n",
    "plt.show()"
   ]
  },
  {
   "cell_type": "markdown",
   "metadata": {},
   "source": [
    "### More Data Prep\n",
    "We get dummies for our categorical variables, making sure to drop one of the categories to avoid the dummy trap."
   ]
  },
  {
   "cell_type": "code",
   "execution_count": 17,
   "metadata": {
    "collapsed": true
   },
   "outputs": [],
   "source": [
    "# Dummies for class\n",
    "pclass_dummies_train = pd.get_dummies(train_df['Pclass'])\n",
    "pclass_dummies_train.columns = ['Class_1','Class_2','Class_3']\n",
    "pclass_dummies_train.drop(['Class_3'], axis=1, inplace=True)\n",
    "\n",
    "pclass_dummies_test  = pd.get_dummies(test_df['Pclass'])\n",
    "pclass_dummies_test.columns = ['Class_1','Class_2','Class_3']\n",
    "pclass_dummies_test.drop(['Class_3'], axis=1, inplace=True)\n",
    "\n",
    "# We drop Pclass now that we have the dummies\n",
    "train_df.drop(['Pclass'],axis=1,inplace=True)\n",
    "test_df.drop(['Pclass'],axis=1,inplace=True)\n",
    "\n",
    "train_df = train_df.join(pclass_dummies_train)\n",
    "test_df = test_df.join(pclass_dummies_test)"
   ]
  },
  {
   "cell_type": "code",
   "execution_count": 18,
   "metadata": {
    "collapsed": true
   },
   "outputs": [],
   "source": [
    "# We do the same thing for Embarked\n",
    "embark_dummies_train = pd.get_dummies(train_df['Embarked'])\n",
    "embark_dummies_train.drop(['S'], axis=1, inplace=True)\n",
    "\n",
    "embark_dummies_test  = pd.get_dummies(test_df['Embarked'])\n",
    "embark_dummies_test.drop(['S'], axis=1, inplace=True)\n",
    "\n",
    "train_df = train_df.join(embark_dummies_train)\n",
    "test_df = test_df.join(embark_dummies_test)\n",
    "\n",
    "train_df.drop(['Embarked'], axis=1,inplace=True)\n",
    "test_df.drop(['Embarked'], axis=1,inplace=True)"
   ]
  },
  {
   "cell_type": "code",
   "execution_count": 19,
   "metadata": {},
   "outputs": [],
   "source": [
    "# And for Sex\n",
    "sex_dummies_train = pd.get_dummies(train_df['Sex'])\n",
    "sex_dummies_train.drop(['male'], axis=1, inplace=True)\n",
    "\n",
    "sex_dummies_test = pd.get_dummies(test_df['Sex'])\n",
    "sex_dummies_test.drop(['male'], axis=1, inplace=True)\n",
    "\n",
    "train_df = train_df.join(sex_dummies_train)\n",
    "test_df = test_df.join(sex_dummies_test)\n",
    "\n",
    "train_df.drop(['Sex'], axis=1,inplace=True)\n",
    "test_df.drop(['Sex'], axis=1,inplace=True)"
   ]
  },
  {
   "cell_type": "markdown",
   "metadata": {},
   "source": [
    "We drop a few variables that we won't be using in our analysis. We keep PassengerID with test_df so we can use it for submitting our predictions later."
   ]
  },
  {
   "cell_type": "code",
   "execution_count": 20,
   "metadata": {},
   "outputs": [],
   "source": [
    "train_df = train_df.drop(['PassengerId','Name','Ticket', 'Cabin'], axis=1)\n",
    "test_df = test_df.drop(['Name','Ticket', 'Cabin'], axis=1)"
   ]
  },
  {
   "cell_type": "markdown",
   "metadata": {},
   "source": [
    "Finally, we note that we do not scale our data since Fare and Age have roughly the same scale."
   ]
  },
  {
   "cell_type": "markdown",
   "metadata": {},
   "source": [
    "## Analysis!!"
   ]
  },
  {
   "cell_type": "markdown",
   "metadata": {},
   "source": [
    "Now we're ready to make our Xtrain, Ytrain, and Xtest datasets."
   ]
  },
  {
   "cell_type": "code",
   "execution_count": 21,
   "metadata": {
    "collapsed": true
   },
   "outputs": [],
   "source": [
    "# Import metrics\n",
    "from sklearn.metrics import f1_score, classification_report, accuracy_score, mean_squared_error"
   ]
  },
  {
   "cell_type": "code",
   "execution_count": 22,
   "metadata": {},
   "outputs": [],
   "source": [
    "xtrain = train_df.drop(\"Survived\",axis=1)\n",
    "ytrain = train_df[\"Survived\"]\n",
    "xtest = test_df.drop(\"PassengerId\",axis=1).copy()"
   ]
  },
  {
   "cell_type": "markdown",
   "metadata": {},
   "source": [
    "### Logistic Regression\n",
    "We start things off with a more classic model. We first run the logistic regression over a gridsearch based on the f1 score."
   ]
  },
  {
   "cell_type": "code",
   "execution_count": 42,
   "metadata": {},
   "outputs": [
    {
     "name": "stdout",
     "output_type": "stream",
     "text": [
      "F1 of Logistic Regression is: \n",
      "0.731707317073\n",
      "Where the best parameters are: \n",
      "{'C': 1, 'penalty': 'l2'}\n",
      "Test Classification Report:\n",
      "             precision    recall  f1-score   support\n",
      "\n",
      "          0       0.82      0.87      0.84       549\n",
      "          1       0.76      0.70      0.73       342\n",
      "\n",
      "avg / total       0.80      0.80      0.80       891\n",
      "\n"
     ]
    }
   ],
   "source": [
    "logreg = LogisticRegression()\n",
    "gridsearch = GridSearchCV(logreg, {'penalty': ['l1', 'l2'], 'C': [.1, 1, 10]},\n",
    "                            scoring=\"f1\", cv=5)\n",
    "gridsearch.fit(xtrain, ytrain)\n",
    "print(\"F1 of Logistic Regression is: \")\n",
    "print(gridsearch.score(xtrain, ytrain))\n",
    "print(\"Where the best parameters are: \")\n",
    "print(gridsearch.best_params_)\n",
    "\n",
    "print(\"Test Classification Report:\")\n",
    "y_pred_train = gridsearch.predict(xtrain)\n",
    "print(classification_report(ytrain, y_pred_train))"
   ]
  },
  {
   "cell_type": "markdown",
   "metadata": {},
   "source": [
    "Now we look to see if it changes if we use accuracy as our measure. It does seem to matter. For the accuracy measure, it is better to have significantly lower value for C, the hyperparameter for regularization (lower C means strong regularization)."
   ]
  },
  {
   "cell_type": "code",
   "execution_count": 43,
   "metadata": {
    "scrolled": false
   },
   "outputs": [
    {
     "name": "stdout",
     "output_type": "stream",
     "text": [
      "Accuracy of Logistic Regression is: \n",
      "0.802469135802\n",
      "Where the best parameters are: \n",
      "{'C': 1, 'penalty': 'l2'}\n",
      "Test Classification Report:\n",
      "             precision    recall  f1-score   support\n",
      "\n",
      "          0       0.82      0.87      0.84       549\n",
      "          1       0.76      0.70      0.73       342\n",
      "\n",
      "avg / total       0.80      0.80      0.80       891\n",
      "\n"
     ]
    }
   ],
   "source": [
    "logreg = LogisticRegression()\n",
    "gridsearch = GridSearchCV(logreg, {'penalty': ['l1', 'l2'], 'C': [0.1, 1, 2, 5]},\n",
    "                            scoring=\"accuracy\", cv=5)\n",
    "gridsearch.fit(xtrain, ytrain)\n",
    "print(\"Accuracy of Logistic Regression is: \")\n",
    "print(gridsearch.score(xtrain, ytrain))\n",
    "print(\"Where the best parameters are: \")\n",
    "print(gridsearch.best_params_)\n",
    "\n",
    "print(\"Test Classification Report:\")\n",
    "y_pred_train = gridsearch.predict(xtrain)\n",
    "print(classification_report(ytrain, y_pred_train))"
   ]
  },
  {
   "cell_type": "markdown",
   "metadata": {},
   "source": [
    "Since accuracy is the basis of scoring on Kaggle, we predict based off these parameters and export for submission to Kaggle. For reasons that I don't understand, all of the models that I attempted came back with a score of 0. There is a problem in my building or cleaning, but I can't find it."
   ]
  },
  {
   "cell_type": "code",
   "execution_count": 44,
   "metadata": {},
   "outputs": [],
   "source": [
    "logreg.fit(xtrain, ytrain)\n",
    "logreg_pred = logreg.predict(xtest)\n",
    "np.savetxt('C:\\\\Users\\\\jacob\\\\Documents\\\\Datasets\\\\Homework4\\\\LogRegPredictions.csv', logreg_pred)"
   ]
  },
  {
   "cell_type": "markdown",
   "metadata": {},
   "source": [
    "### K Neighbors Classifier"
   ]
  },
  {
   "cell_type": "markdown",
   "metadata": {},
   "source": [
    "This model is significantly better than the simpler logistic regression as evidenced by the vastly better scores in precision, recall, and f1."
   ]
  },
  {
   "cell_type": "code",
   "execution_count": 39,
   "metadata": {},
   "outputs": [
    {
     "name": "stdout",
     "output_type": "stream",
     "text": [
      "Where the best parameters are: \n",
      "{'n_neighbors': 25, 'p': 1, 'weights': 'distance'}\n",
      "Test Classification Report:\n",
      "             precision    recall  f1-score   support\n",
      "\n",
      "          0       0.97      1.00      0.99       549\n",
      "          1       1.00      0.96      0.98       342\n",
      "\n",
      "avg / total       0.98      0.98      0.98       891\n",
      "\n"
     ]
    }
   ],
   "source": [
    "knc = KNeighborsClassifier()\n",
    "gridsearch = GridSearchCV(knc, {'n_neighbors': [5, 10, 15, 20, 25], 'p': [1, 2], 'weights': ['uniform', 'distance']}, cv=5)\n",
    "gridsearch.fit(xtrain, ytrain)\n",
    "print(\"Best parameters are: \")\n",
    "print(gridsearch.best_params_)\n",
    "\n",
    "print(\"Test Classification Report:\")\n",
    "y_pred_train = gridsearch.predict(xtrain)\n",
    "print(classification_report(ytrain, y_pred_train))"
   ]
  },
  {
   "cell_type": "code",
   "execution_count": 40,
   "metadata": {
    "collapsed": true
   },
   "outputs": [],
   "source": [
    "knc.fit(xtrain, ytrain)\n",
    "knc_pred = knc.predict(xtest)\n",
    "np.savetxt('C:\\\\Users\\\\jacob\\\\Documents\\\\Datasets\\\\Homework4\\\\KNCPredictions.csv', knc_pred)"
   ]
  },
  {
   "cell_type": "markdown",
   "metadata": {
    "collapsed": true
   },
   "source": [
    "### SVC\n",
    "This model actually takes too long to be useful for this project. I'm sure it works great for other people."
   ]
  },
  {
   "cell_type": "code",
   "execution_count": null,
   "metadata": {
    "collapsed": true
   },
   "outputs": [],
   "source": [
    "lsvc = LinearSVC()\n",
    "gridsearch = GridSearchCV(lsvc, {'penalty': ['l1', 'l2'], 'C': [0.1, 1, 10]}, scoring=\"accuracy\", cv=3)\n",
    "gridsearch.fit(xtrain, ytrain)\n",
    "print(\"Accuracy of Linear SVC is: \")\n",
    "print(gridsearch.score(xtrain, ytrain))\n",
    "print(\"Where the best parameters are: \")\n",
    "print(gridsearch.best_params_)\n",
    "\n",
    "print(\"Test Classification Report:\")\n",
    "y_pred_train = gridsearch.predict(xtrain)\n",
    "print(classification_report(ytrain, y_pred_train))"
   ]
  },
  {
   "cell_type": "markdown",
   "metadata": {},
   "source": [
    "### Random Forest\n",
    "This is one of the more sophisticated ensambling models that we discussed in class. Oddly, it does not perform as well as the seemingly less sophisticated K Neighbors Classifier."
   ]
  },
  {
   "cell_type": "code",
   "execution_count": 33,
   "metadata": {
    "scrolled": true
   },
   "outputs": [
    {
     "name": "stdout",
     "output_type": "stream",
     "text": [
      "Best parameters of rfc are: \n",
      "{'max_depth': 10, 'n_estimators': 1000}\n",
      "Test Classification Report:\n",
      "             precision    recall  f1-score   support\n",
      "\n",
      "          0       0.84      0.93      0.88       549\n",
      "          1       0.86      0.71      0.78       342\n",
      "\n",
      "avg / total       0.85      0.85      0.84       891\n",
      "\n"
     ]
    }
   ],
   "source": [
    "rfc = RandomForestClassifier(oob_score=True, min_samples_leaf = 10)\n",
    "gridsearch = GridSearchCV(rfc, {'n_estimators': [100, 1000, 2000], 'max_depth': [1, 5, 10, 15]})\n",
    "gridsearch.fit(xtrain, ytrain)\n",
    "print(\"Best parameters of rfc are: \")\n",
    "print(gridsearch.best_params_)\n",
    "\n",
    "print(\"Test Classification Report:\")\n",
    "y_pred_train = gridsearch.predict(xtrain)\n",
    "print(classification_report(ytrain, y_pred_train))"
   ]
  },
  {
   "cell_type": "code",
   "execution_count": 34,
   "metadata": {
    "scrolled": true
   },
   "outputs": [
    {
     "name": "stderr",
     "output_type": "stream",
     "text": [
      "C:\\Users\\jacob\\Anaconda3\\lib\\site-packages\\sklearn\\ensemble\\forest.py:453: UserWarning: Some inputs do not have OOB scores. This probably means too few trees were used to compute any reliable oob estimates.\n",
      "  warn(\"Some inputs do not have OOB scores. \"\n",
      "C:\\Users\\jacob\\Anaconda3\\lib\\site-packages\\sklearn\\ensemble\\forest.py:458: RuntimeWarning: invalid value encountered in true_divide\n",
      "  predictions[k].sum(axis=1)[:, np.newaxis])\n"
     ]
    }
   ],
   "source": [
    "rfc.fit(xtrain, ytrain)\n",
    "rfc_pred = rfc.predict(xtest)\n",
    "np.savetxt('C:\\\\Users\\\\jacob\\\\Documents\\\\Datasets\\\\Homework4\\\\RFCPredictions.csv', rfc_pred)"
   ]
  },
  {
   "cell_type": "markdown",
   "metadata": {},
   "source": [
    "### Gaussian Naive Bayes\n",
    "We finish things off with some naive Bayes. This model doesn't have any hyper parameters other than priors, which we don't include. This model performs about as well as the logistic regression. Not all that impressive."
   ]
  },
  {
   "cell_type": "code",
   "execution_count": 47,
   "metadata": {},
   "outputs": [
    {
     "name": "stdout",
     "output_type": "stream",
     "text": [
      "Test Classification Report:\n",
      "             precision    recall  f1-score   support\n",
      "\n",
      "          0       0.83      0.83      0.83       549\n",
      "          1       0.73      0.73      0.73       342\n",
      "\n",
      "avg / total       0.79      0.79      0.79       891\n",
      "\n"
     ]
    }
   ],
   "source": [
    "gnb = GaussianNB()\n",
    "gridsearch = GridSearchCV(gnb, {})\n",
    "gridsearch.fit(xtrain, ytrain)\n",
    "print(\"Test Classification Report:\")\n",
    "y_pred_train = gridsearch.predict(xtrain)\n",
    "print(classification_report(ytrain, y_pred_train))"
   ]
  },
  {
   "cell_type": "code",
   "execution_count": 48,
   "metadata": {
    "collapsed": true
   },
   "outputs": [],
   "source": [
    "gnb.fit(xtrain, ytrain)\n",
    "gnb_pred = gnb.predict(xtest)\n",
    "np.savetxt('C:\\\\Users\\\\jacob\\\\Documents\\\\Datasets\\\\Homework4\\\\GNBPredictions.csv', gnb_pred)"
   ]
  },
  {
   "cell_type": "markdown",
   "metadata": {},
   "source": [
    "## Conclusion"
   ]
  },
  {
   "cell_type": "markdown",
   "metadata": {},
   "source": [
    "The main lesson I learned from this project is to be careful in preparing datasets. I must have done something wrong to my test dataset because my models got a score of 0 accuracy on Kaggle. Everything seems to make sense to me as I got back through it.\n",
    "\n",
    "If we look at the CV scores, however, there might be some lessons we can learn. KNeighbors performed much better than I would have expected, given its apparent simplicity. I also learned that SVC and Random Forest take much longer than I imagined they would, limiting their usefulness. Keeping run time in mind is essential (another reason why KNeighbors rocks). Logistic Regression was about as exciting and powerful as it sounds like it would be.\n",
    "\n",
    "I conclude that I would not give any of these models to Zillow since I don't think they care about who survives the Titanic. Instead I would direct them to my work on housing prices in Ames, Iowa."
   ]
  }
 ],
 "metadata": {
  "kernelspec": {
   "display_name": "Python 3",
   "language": "python",
   "name": "python3"
  },
  "language_info": {
   "codemirror_mode": {
    "name": "ipython",
    "version": 3
   },
   "file_extension": ".py",
   "mimetype": "text/x-python",
   "name": "python",
   "nbconvert_exporter": "python",
   "pygments_lexer": "ipython3",
   "version": "3.6.3"
  }
 },
 "nbformat": 4,
 "nbformat_minor": 2
}
